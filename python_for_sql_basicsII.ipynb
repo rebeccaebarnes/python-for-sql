{
 "cells": [
  {
   "cell_type": "markdown",
   "metadata": {},
   "source": [
    "# Python for SQL Developers: Basic Data Types II\n",
    "## Python Distinctives\n",
    "**Snake Case**\n",
    "\n",
    "Snake case is a naming convention where all letters are lower case and any spaces are underscores `like_this`. This is the typical naming convention for variables (and functions) in Python. While it is not required to use the naming convention to create a variable, it is helpful to distinguish from classes (helpful when working with others). "
   ]
  },
  {
   "cell_type": "code",
   "execution_count": null,
   "metadata": {},
   "outputs": [],
   "source": [
    "# Create a variable that holds the string 'this is a test' in a snake case variable, \"my test variable\"\n"
   ]
  },
  {
   "cell_type": "code",
   "execution_count": null,
   "metadata": {},
   "outputs": [],
   "source": [
    "# What happens if you try to use spaces in a variable name?\n"
   ]
  },
  {
   "cell_type": "markdown",
   "metadata": {},
   "source": [
    "## Collections\n",
    "Collections are an important part of working with code. In Python the basic collection data types are:\n",
    "- Tuples\n",
    "- Lists\n",
    "- Dictionaries\n",
    "\n",
    "Let's examine each of these more closely."
   ]
  },
  {
   "cell_type": "markdown",
   "metadata": {},
   "source": [
    "### Tuples\n",
    "Tuples are the closest equivalent to the objects found in brackets when using `IN` in SQL, e.g. `NOT IN (1, 2, 3)`. A tuple is an immutable (using the least memory), ordered collection that can hold any kind of Python object (including other collections). \n",
    "\n",
    "Tuples are designated by parentheses and must have at least two objects in them."
   ]
  },
  {
   "cell_type": "code",
   "execution_count": null,
   "metadata": {},
   "outputs": [],
   "source": [
    "# Confirm that (1, 2) is the data type 'tuple'\n"
   ]
  },
  {
   "cell_type": "code",
   "execution_count": null,
   "metadata": {},
   "outputs": [],
   "source": [
    "# What data type is stored if you attempt to do (1) or ('1')?\n"
   ]
  },
  {
   "cell_type": "markdown",
   "metadata": {},
   "source": [
    "Tuples cannot be modified once created and can only be referenced with indexing/slicing."
   ]
  },
  {
   "cell_type": "markdown",
   "metadata": {},
   "source": [
    "1\\. Create a tuple called `shopping_list` that includes the following: pears, corn flakes, bread, milk, cheese, oranges."
   ]
  },
  {
   "cell_type": "code",
   "execution_count": null,
   "metadata": {},
   "outputs": [],
   "source": [
    "# What is the third item on your shopping list?\n"
   ]
  },
  {
   "cell_type": "code",
   "execution_count": null,
   "metadata": {},
   "outputs": [],
   "source": [
    "# What happens if you try to add eggs to your list using + ?\n"
   ]
  },
  {
   "cell_type": "markdown",
   "metadata": {},
   "source": [
    "To use tuples in the same way as we would in SQL, run the cell below."
   ]
  },
  {
   "cell_type": "code",
   "execution_count": null,
   "metadata": {},
   "outputs": [],
   "source": [
    "# Run this cell\n",
    "new_shopping_list = ('avocado', 'pumpkin', 'brown rice' 'chicken')\n",
    "'eggs' in new_shopping_list"
   ]
  },
  {
   "cell_type": "markdown",
   "metadata": {},
   "source": [
    "### List\n",
    "Sometimes you do want to be able to amend the collection that you have created. The most simple version of a mutable collection in Python is a list. Lists have similar basic functionality to tuples (they are also ordered), but can do much more! Python has many, many methods that are specific to list functionality.\n",
    "\n",
    "A list is designated by square brackets (`[]`)."
   ]
  },
  {
   "cell_type": "code",
   "execution_count": null,
   "metadata": {},
   "outputs": [],
   "source": [
    "# Confirm that [1, 2] is the data type 'list'\n"
   ]
  },
  {
   "cell_type": "code",
   "execution_count": null,
   "metadata": {},
   "outputs": [],
   "source": [
    "# What data type is stored if you use [1] or ['1']?\n"
   ]
  },
  {
   "cell_type": "markdown",
   "metadata": {},
   "source": [
    "2\\. Recreate your shopping list but this time store it in a list."
   ]
  },
  {
   "cell_type": "code",
   "execution_count": null,
   "metadata": {},
   "outputs": [],
   "source": [
    "# Store your shopping_list in a list object\n"
   ]
  },
  {
   "cell_type": "code",
   "execution_count": null,
   "metadata": {},
   "outputs": [],
   "source": [
    "# What is the result of + 'eggs' with your shopping list?\n"
   ]
  },
  {
   "cell_type": "code",
   "execution_count": null,
   "metadata": {},
   "outputs": [],
   "source": [
    "# But did this actually change it? Run this cell to see\n",
    "shopping_list"
   ]
  },
  {
   "cell_type": "markdown",
   "metadata": {},
   "source": [
    "To actually change our list, we need to use Python list methods. For lists, we can add something to our list by using `.append()`. "
   ]
  },
  {
   "cell_type": "code",
   "execution_count": null,
   "metadata": {},
   "outputs": [],
   "source": [
    "# Add 'eggs' to your shopping list with append. \n",
    "# Display the contents of the shopping list to confirm it was changed.\n"
   ]
  }
 ],
 "metadata": {
  "kernelspec": {
   "display_name": "Python 3",
   "language": "python",
   "name": "python3"
  },
  "language_info": {
   "codemirror_mode": {
    "name": "ipython",
    "version": 3
   },
   "file_extension": ".py",
   "mimetype": "text/x-python",
   "name": "python",
   "nbconvert_exporter": "python",
   "pygments_lexer": "ipython3",
   "version": "3.7.4"
  }
 },
 "nbformat": 4,
 "nbformat_minor": 2
}
