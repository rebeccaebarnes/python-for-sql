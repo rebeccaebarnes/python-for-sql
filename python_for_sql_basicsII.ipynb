{
 "cells": [
  {
   "cell_type": "markdown",
   "metadata": {},
   "source": [
    "# Python for SQL Developers: Basic Data Types II\n",
    "## Python Distinctives\n",
    "**Snake Case**\n",
    "\n",
    "Snake case is a naming convention where all letters are lower case and any spaces are underscores `like_this`. This is the typical naming convention for variables (and functions) in Python. While it is not required to use the naming convention to create a variable, it is helpful to distinguish from classes (helpful when working with others). "
   ]
  },
  {
   "cell_type": "code",
   "execution_count": null,
   "metadata": {},
   "outputs": [],
   "source": [
    "# Create a variable that holds the string 'this is a test' in a snake case variable, \"my test variable\"\n"
   ]
  },
  {
   "cell_type": "code",
   "execution_count": null,
   "metadata": {},
   "outputs": [],
   "source": [
    "# What happens if you try to use spaces in a variable name?\n"
   ]
  },
  {
   "cell_type": "markdown",
   "metadata": {},
   "source": [
    "## Collections\n",
    "Collections are an important part of working with code. In Python the basic collection data types are:\n",
    "- Tuples\n",
    "- Lists\n",
    "- Dictionaries\n",
    "\n",
    "Let's examine each of these more closely."
   ]
  },
  {
   "cell_type": "markdown",
   "metadata": {},
   "source": [
    "### Tuples\n",
    "Tuples are the closest equivalent to the objects found in brackets when using `IN` in SQL, e.g. `NOT IN (1, 2, 3)`. A tuple is an immutable (using the least memory), ordered collection that can hold any kind of Python object (including other collections). \n",
    "\n",
    "Tuples are designated by parentheses and must have at least two objects in them."
   ]
  },
  {
   "cell_type": "code",
   "execution_count": null,
   "metadata": {},
   "outputs": [],
   "source": [
    "# Confirm that (1, 2) is the data type 'tuple'\n"
   ]
  },
  {
   "cell_type": "code",
   "execution_count": null,
   "metadata": {},
   "outputs": [],
   "source": [
    "# What data type is stored if you attempt to do (1) or ('1')?\n"
   ]
  },
  {
   "cell_type": "markdown",
   "metadata": {},
   "source": [
    "Tuples cannot be modified once created and can only be referenced with indexing/slicing."
   ]
  },
  {
   "cell_type": "markdown",
   "metadata": {},
   "source": [
    "1\\. Create a tuple called `shopping_list` that includes the following: pears, corn flakes, bread, milk, cheese, oranges."
   ]
  },
  {
   "cell_type": "code",
   "execution_count": null,
   "metadata": {},
   "outputs": [],
   "source": [
    "# What is the third item on your shopping list?\n"
   ]
  },
  {
   "cell_type": "code",
   "execution_count": null,
   "metadata": {},
   "outputs": [],
   "source": [
    "# What happens if you try to add eggs to your list using + ?\n"
   ]
  },
  {
   "cell_type": "markdown",
   "metadata": {},
   "source": [
    "To use tuples in the same way as we would in SQL, run the cell below."
   ]
  },
  {
   "cell_type": "code",
   "execution_count": null,
   "metadata": {},
   "outputs": [],
   "source": [
    "# Run this cell\n",
    "new_shopping_list = ('avocado', 'pumpkin', 'brown rice' 'chicken')\n",
    "'eggs' in new_shopping_list"
   ]
  }
 ],
 "metadata": {
  "kernelspec": {
   "display_name": "Python 3",
   "language": "python",
   "name": "python3"
  },
  "language_info": {
   "codemirror_mode": {
    "name": "ipython",
    "version": 3
   },
   "file_extension": ".py",
   "mimetype": "text/x-python",
   "name": "python",
   "nbconvert_exporter": "python",
   "pygments_lexer": "ipython3",
   "version": "3.7.4"
  }
 },
 "nbformat": 4,
 "nbformat_minor": 2
}
