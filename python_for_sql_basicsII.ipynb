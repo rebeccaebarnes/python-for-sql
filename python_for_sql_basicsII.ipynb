{
 "cells": [
  {
   "cell_type": "markdown",
   "metadata": {},
   "source": [
    "# Python for SQL Developers: Basic Data Types II\n",
    "## Python Distinctives\n",
    "**Snake Case**\n",
    "\n",
    "Snake case is a naming convention where all letters are lower case and any spaces are underscores `like_this`. This is the typical naming convention for variables (and functions) in Python. While it is not required to use the naming convention to create a variable, it is helpful to distinguish from classes (helpful when working with others). "
   ]
  },
  {
   "cell_type": "code",
   "execution_count": null,
   "metadata": {},
   "outputs": [],
   "source": [
    "# Create a variable that holds the string 'this is a test' in a snake case variable, \"my test variable\"\n"
   ]
  },
  {
   "cell_type": "code",
   "execution_count": null,
   "metadata": {},
   "outputs": [],
   "source": [
    "# What happens if you try to use spaces in a variable name?\n"
   ]
  },
  {
   "cell_type": "markdown",
   "metadata": {},
   "source": [
    "## Collections\n",
    "Collections are an important part of working with code. In Python the basic collection data types are:\n",
    "- Tuples\n",
    "- Lists\n",
    "- Dictionaries\n",
    "\n",
    "Let's examine each of these more closely."
   ]
  },
  {
   "cell_type": "markdown",
   "metadata": {},
   "source": [
    "### Tuples\n",
    "Tuples are the closest equivalent to the objects found in brackets when using `IN` in SQL, e.g. `NOT IN (1, 2, 3)`. A tuple is an immutable (using the least memory), ordered collection that can hold any kind of Python object (including other collections). \n",
    "\n",
    "Tuples are designated by parentheses and must have at least two objects in them."
   ]
  },
  {
   "cell_type": "code",
   "execution_count": null,
   "metadata": {},
   "outputs": [],
   "source": [
    "# Confirm that (1, 2) is the data type 'tuple'\n"
   ]
  },
  {
   "cell_type": "code",
   "execution_count": null,
   "metadata": {},
   "outputs": [],
   "source": [
    "# What data type is stored if you attempt to do (1) or ('1')?\n",
    "type((1))"
   ]
  },
  {
   "cell_type": "markdown",
   "metadata": {},
   "source": [
    "Tuples cannot be modified once created and can only be referenced with indexing/slicing."
   ]
  },
  {
   "cell_type": "markdown",
   "metadata": {},
   "source": [
    "1\\. Create a tuple called `shopping_list` that includes the following: pears, corn flakes, bread, milk, cheese, oranges."
   ]
  },
  {
   "cell_type": "code",
   "execution_count": null,
   "metadata": {},
   "outputs": [],
   "source": [
    "# What is the third item on your shopping list?\n"
   ]
  },
  {
   "cell_type": "code",
   "execution_count": null,
   "metadata": {},
   "outputs": [],
   "source": [
    "# What happens if you try to add eggs to your list using + ?\n"
   ]
  },
  {
   "cell_type": "markdown",
   "metadata": {},
   "source": [
    "To use tuples in the same way as we would in SQL, run the cell below."
   ]
  },
  {
   "cell_type": "code",
   "execution_count": null,
   "metadata": {},
   "outputs": [],
   "source": [
    "# Run this cell\n",
    "new_shopping_list = ('avocado', 'pumpkin', 'brown rice', 'chicken')\n",
    "'eggs' in new_shopping_list"
   ]
  },
  {
   "cell_type": "markdown",
   "metadata": {},
   "source": [
    "### List\n",
    "Sometimes you do want to be able to amend the collection that you have created. The most simple version of a mutable collection in Python is a list. Lists have similar basic functionality to tuples (they are also ordered), but can do much more! Python has many, many methods that are specific to list functionality.\n",
    "\n",
    "A list is designated by square brackets (`[]`)."
   ]
  },
  {
   "cell_type": "code",
   "execution_count": null,
   "metadata": {},
   "outputs": [],
   "source": [
    "# Confirm that [1, 2] is the data type 'list'\n",
    "type([1, 2])"
   ]
  },
  {
   "cell_type": "code",
   "execution_count": null,
   "metadata": {},
   "outputs": [],
   "source": [
    "# What data type is stored if you use [1] or ['1']?\n",
    "type([1])"
   ]
  },
  {
   "cell_type": "markdown",
   "metadata": {},
   "source": [
    "_Double click to add your answer here. Is this the same or different than what you observed for the tuple?_"
   ]
  },
  {
   "cell_type": "markdown",
   "metadata": {},
   "source": [
    "2\\. Recreate your shopping list but this time store it in a list."
   ]
  },
  {
   "cell_type": "code",
   "execution_count": null,
   "metadata": {},
   "outputs": [],
   "source": [
    "# Store your shopping_list in a list object\n",
    "shopping_list = ['pears', 'corn flakes', 'bread', 'milk', 'cheese', 'oranges']"
   ]
  },
  {
   "cell_type": "code",
   "execution_count": null,
   "metadata": {},
   "outputs": [],
   "source": [
    "# What is the result of + 'eggs' with your shopping list?\n",
    "shopping_list + 'eggs'"
   ]
  },
  {
   "cell_type": "markdown",
   "metadata": {},
   "source": [
    "To actually change our list, we need to use Python list methods. For lists, we can add something to our list by using `.append()`. "
   ]
  },
  {
   "cell_type": "code",
   "execution_count": null,
   "metadata": {},
   "outputs": [],
   "source": [
    "# Add 'eggs' to your shopping list with append. \n",
    "# Display the contents of the shopping list to confirm it was changed.\n",
    "shopping_list.append('eggs')\n",
    "shopping_list"
   ]
  },
  {
   "cell_type": "markdown",
   "metadata": {},
   "source": [
    "While we can't use `+` to add to our list, we can use it to combine two lists.\n",
    "\n",
    "3\\. Store the items that you put in `new_shopping_list` in a list. What is the result of adding these two lists? But did it change shopping list? Inspect your shopping list to confirm."
   ]
  },
  {
   "cell_type": "code",
   "execution_count": null,
   "metadata": {},
   "outputs": [],
   "source": [
    "# Store the items in new_shopping_list in a list\n",
    "new_shopping_list = ['avocado', 'pumpkin', 'brown rice', 'chicken']"
   ]
  },
  {
   "cell_type": "code",
   "execution_count": null,
   "metadata": {},
   "outputs": [],
   "source": [
    "# Add shopping_list and new_shopping_list\n",
    "shopping_list + new_shopping_list"
   ]
  },
  {
   "cell_type": "code",
   "execution_count": null,
   "metadata": {},
   "outputs": [],
   "source": [
    "# Did this change shopping list?\n",
    "shopping_list"
   ]
  },
  {
   "cell_type": "markdown",
   "metadata": {},
   "source": [
    "We can see that the original shopping list did not actually change when we added the new shopping list. Instead, we returned the result of adding the two lists together, without actually changing the original list. This is a common functionality of Python. There are some methods/functions that will change the original object, and there are some that won't. \n",
    "\n",
    "This is actually quiet helpful. There are many times where you will want to manipulate an object for a result, while still retaining the original object. It is important to understand whether your function will alter the object \"in place\" or whether you will need to assign the results to a new object to retain them. This is something that we will revisit as we go further into Python.\n",
    "\n",
    "The other arithmetic function that works with Python is multiply."
   ]
  },
  {
   "cell_type": "code",
   "execution_count": null,
   "metadata": {},
   "outputs": [],
   "source": [
    "# Multiply your shopping list by 3\n",
    "shopping_list * 3"
   ]
  },
  {
   "cell_type": "markdown",
   "metadata": {},
   "source": [
    "If you would like more details of different list methods in Python, you can check out [this resource](https://www.w3schools.com/python/python_ref_list.asp) from w3schools. Try playing around with some of the functionality in the cells below."
   ]
  },
  {
   "cell_type": "code",
   "execution_count": null,
   "metadata": {},
   "outputs": [],
   "source": [
    "# Explore list methods\n"
   ]
  },
  {
   "cell_type": "code",
   "execution_count": null,
   "metadata": {},
   "outputs": [],
   "source": [
    "# Explore list methods\n"
   ]
  },
  {
   "cell_type": "code",
   "execution_count": null,
   "metadata": {},
   "outputs": [],
   "source": [
    "# Explore list methods\n"
   ]
  },
  {
   "cell_type": "markdown",
   "metadata": {},
   "source": [
    "### Dictionaries\n",
    "\n",
    "Dictionaries allow us to attach objects to specific keys. They are mutable but not ordered. They are designated with curly brackets (`{}`) and a colon to separate the key from the value (`:`). Each new `key:value` pair is separated by a comma (`,`). It is typical that the keys (reference code) are strings (though it is not required). The values can be whatever type of object you would like to store with that key."
   ]
  },
  {
   "cell_type": "code",
   "execution_count": 2,
   "metadata": {},
   "outputs": [],
   "source": [
    "# Confirm that {'key': 'value'} is a dictionary\n"
   ]
  },
  {
   "cell_type": "markdown",
   "metadata": {},
   "source": [
    "1\\. You can now store both of your shopping lists in the same object. Create a dictionary called `shopping_lists` that let's you store both of your shopping lists."
   ]
  },
  {
   "cell_type": "code",
   "execution_count": 3,
   "metadata": {},
   "outputs": [],
   "source": [
    "# Create the shopping_lists dictionary\n",
    "shopping_lists = {'shopping_list': ['pears', 'corn flakes', 'bread', 'milk', 'cheese', 'oranges'],\n",
    "                  'new_shopping_list': ['avocado', 'pumpkin', 'brown rice', 'chicken']}"
   ]
  },
  {
   "cell_type": "markdown",
   "metadata": {},
   "source": [
    "There's a few ways that we can access the elements of a dictionary.\n",
    "- Access all keys: Use the `.keys()` method at the end of your dictionary\n",
    "- Access all values: Use the `.values()` method at the end of your dictionary\n",
    "- Access both keys and values at once: Use the `.items()` at the end of your dictionary\n",
    "- Access the values of a specific key: Use `[key_name]` at the end of your dictionary"
   ]
  },
  {
   "cell_type": "code",
   "execution_count": null,
   "metadata": {},
   "outputs": [],
   "source": [
    "# Return the shopping lists keys\n"
   ]
  },
  {
   "cell_type": "code",
   "execution_count": null,
   "metadata": {},
   "outputs": [],
   "source": [
    "# Return the shoppings lists values\n"
   ]
  },
  {
   "cell_type": "code",
   "execution_count": null,
   "metadata": {},
   "outputs": [],
   "source": [
    "# Return all of the items in the shopping lists dictionary\n"
   ]
  },
  {
   "cell_type": "code",
   "execution_count": null,
   "metadata": {},
   "outputs": [],
   "source": [
    "# Return only what is in the new shopping list\n"
   ]
  },
  {
   "cell_type": "markdown",
   "metadata": {},
   "source": [
    "Once a dictionary is created, you can add new key-value pairs to it using the following method:\n",
    "\n",
    "```python\n",
    "my_dict = {} # Create empty dictionary\n",
    "my_dict['my_key'] = 'my_element' # Assign new element\n",
    "```"
   ]
  },
  {
   "cell_type": "markdown",
   "metadata": {},
   "source": [
    "2\\. Create an empty dictionary called `calendar`. Create a variable `months` that stores a list of the months of year and another, called `days` that stores the days of the week. Add both of these to your dictionary under the keys `months` and `days` respectively."
   ]
  },
  {
   "cell_type": "code",
   "execution_count": null,
   "metadata": {},
   "outputs": [],
   "source": [
    "# Use a single cell to write the code for all steps and then run to execute\n",
    "\n",
    "\n",
    "\n",
    "\n"
   ]
  },
  {
   "cell_type": "markdown",
   "metadata": {},
   "source": [
    "If we reassign a key in a dictionary, it will overwrite the original value to what has been assigned. \n",
    "\n",
    "3\\. Use your `shopping_lists` dictionary and replace the new shopping list value with `1`."
   ]
  },
  {
   "cell_type": "code",
   "execution_count": null,
   "metadata": {},
   "outputs": [],
   "source": [
    "# Change a key in your shopping lists dictionary\n"
   ]
  },
  {
   "cell_type": "markdown",
   "metadata": {},
   "source": [
    "It's not possible to use the arithmetic functions on dictionaries."
   ]
  },
  {
   "cell_type": "code",
   "execution_count": 8,
   "metadata": {},
   "outputs": [
    {
     "ename": "TypeError",
     "evalue": "unsupported operand type(s) for +: 'dict' and 'dict'",
     "output_type": "error",
     "traceback": [
      "\u001b[1;31m---------------------------------------------------------------------------\u001b[0m",
      "\u001b[1;31mTypeError\u001b[0m                                 Traceback (most recent call last)",
      "\u001b[1;32m<ipython-input-8-7c36b43d6337>\u001b[0m in \u001b[0;36m<module>\u001b[1;34m\u001b[0m\n\u001b[1;32m----> 1\u001b[1;33m \u001b[0mshopping_lists\u001b[0m \u001b[1;33m+\u001b[0m \u001b[0mshopping_lists\u001b[0m\u001b[1;33m\u001b[0m\u001b[1;33m\u001b[0m\u001b[0m\n\u001b[0m",
      "\u001b[1;31mTypeError\u001b[0m: unsupported operand type(s) for +: 'dict' and 'dict'"
     ]
    }
   ],
   "source": [
    "# Use this to cell to test out dictionaries with arithmetic functions\n"
   ]
  },
  {
   "cell_type": "markdown",
   "metadata": {},
   "source": [
    "If you would like more details of different list methods in Python, you can check out [this resource](https://www.w3schools.com/python/python_dictionaries.asp) from w3schools. Try playing around with some of the functionality in the cells below."
   ]
  },
  {
   "cell_type": "code",
   "execution_count": null,
   "metadata": {},
   "outputs": [],
   "source": [
    "# Explore dictionary methods\n"
   ]
  },
  {
   "cell_type": "code",
   "execution_count": null,
   "metadata": {},
   "outputs": [],
   "source": [
    "# Explore dictionary methods\n"
   ]
  },
  {
   "cell_type": "code",
   "execution_count": null,
   "metadata": {},
   "outputs": [],
   "source": [
    "# Explore dictionary methods\n"
   ]
  },
  {
   "cell_type": "markdown",
   "metadata": {},
   "source": [
    "For all collections, it is possible to store any Python object within the collection object. Even though we have primiarily been store strings and ints, this includes other collections. For example, you could have a dictionary that holds lists of tuples as its values. Or, you could store dictionaries within a tuple. Collections do not need to be consistent in the type of objec they store, you elements of a tuple could be a dictionary, a string, and a boolean object."
   ]
  },
  {
   "cell_type": "markdown",
   "metadata": {},
   "source": [
    "## Extra Resources\n",
    "Now that you've had a chance to explore the basics of data types in Python, you might want to check out some further exercises with this [free course](https://www.udacity.com/course/introduction-to-python--ud1110) from Udacity. At this point in time, the most relevant lesson is **Lesson 2: Data Types and Operators**."
   ]
  }
 ],
 "metadata": {
  "kernelspec": {
   "display_name": "Python 3",
   "language": "python",
   "name": "python3"
  },
  "language_info": {
   "codemirror_mode": {
    "name": "ipython",
    "version": 3
   },
   "file_extension": ".py",
   "mimetype": "text/x-python",
   "name": "python",
   "nbconvert_exporter": "python",
   "pygments_lexer": "ipython3",
   "version": "3.7.4"
  }
 },
 "nbformat": 4,
 "nbformat_minor": 2
}
