{
 "cells": [
  {
   "cell_type": "markdown",
   "metadata": {},
   "source": [
    "# Python for SQL: Control Flow\n",
    "\n",
    "One of the advantages of SQL is the ability to manage the flow of work with key control statements. The three key control flow statements for Python are:\n",
    "- **if** statements\n",
    "- **for** loops\n",
    "- **while** loops\n",
    "\n",
    "Each of these allows us to control the flow of our code based on certain conditions.\n",
    "\n",
    "There are also a number of functions in Python that help make work with control flow simpler:\n",
    "- **range** function\n",
    "- **zip** function\n",
    "\n",
    "We'll also take a look at the **.format** method for some handy, dandy string formatting.\n",
    "\n",
    "**Note:** In this notebook I'll sometimes provide additional tips on a question that also provide the answer. Try not to scroll ahead if you want to maximize your learning!\n",
    "\n",
    "**Note:** This is a longer lesson, if you stop part way through and shut down the notebook and come back, remember that none of the values that were stored in your previous session will be available. You will need to re-run those cells to access those variables later on."
   ]
  },
  {
   "cell_type": "markdown",
   "metadata": {},
   "source": [
    "## `if` Statements\n",
    "\n",
    "`if` statements mostly closely align with the SQL `CASE` statement. If we were looking to multiply two fields if another is True, then we might write it like this in SQL.\n",
    "\n",
    "```sql\n",
    "CASE WHEN date >= '1990-01-01'\n",
    "          THEN sales_price * units_sold\n",
    "END AS total_sales\n",
    "```\n",
    "\n",
    "In Python, we would write a similar function.\n",
    "\n",
    "```python\n",
    "if date >= '1990-01-01':\n",
    "    total_sales = sales_price * units_sold\n",
    "```\n",
    "\n",
    "### Python Distinctives\n",
    "The key distinctives of an `if` statement in Python are\n",
    "- The use of a colon at the end of the comparison statement\n",
    "- Identing the line after the colon (this is critical for execution), standard indentation is 4 spaces\n",
    "\n",
    "Another note is that when we include the `CASE` statement within a SQL query we will automatically be presented with the results of the query. In Python, if we want to see the results of our statement we will need to display the results of the variable to which we assigned our results.\n",
    "\n",
    "### Further Comparisons\n",
    "In SQL, we can create complex statements that have many sequential conditions, including an `ELSE` statement. This is also true in Python. Here's what that looks like.\n",
    "\n",
    "In SQL\n",
    "```sql\n",
    "CASE WHEN date >= '2000-01-01'\n",
    "          THEN sales_price * units_sold * 1.15\n",
    "     WHEN date >= '1990-01-01'\n",
    "          THEN sales_price * units_sold\n",
    "     ELSE sales_price * units_sold * 0.8\n",
    "END AS total_sales\n",
    "```\n",
    "\n",
    "In Python\n",
    "```python\n",
    "if date >= '2000-01-01':\n",
    "    total_sales = sales_price * units_sold * 1.15\n",
    "elif date >= '1990-01-01':\n",
    "    total_sales = sales_price * units_sold\n",
    "else:\n",
    "    total_sales = sales_price * units_sold * 0.8\n",
    "```\n",
    "\n",
    "If Python, an `if` statement can follow another `if` statement, but typically this would be associated with a second indented line. Sometimes this is appropriate if the next `if` statement is conditional on the previous. However, if we are just moving sequentially through a list of comparisons, `elif` and finally `else` are much better options."
   ]
  },
  {
   "cell_type": "markdown",
   "metadata": {},
   "source": [
    "**1\\.** Assign your name to a variable. When we want to check the length of a variable in Python, we use the `len()` function. Check out the [Python documentation](https://docs.python.org/3/library/functions.html#len) to see how to use the function. Write a statement that checks whether the length of your name is odd or even. If it is odd, your code should print the word `odd`. If it is even, your code should print the word `even`. \n",
    "\n",
    "(If you are unsure how to print in Python, you might want to do a quick search of something like `python print`. We are using version 3+, which may help in determining the correct answer)"
   ]
  },
  {
   "cell_type": "code",
   "execution_count": null,
   "metadata": {},
   "outputs": [],
   "source": [
    "# Use the cell to store your name and run the if statement\n"
   ]
  },
  {
   "cell_type": "markdown",
   "metadata": {},
   "source": [
    "There are a couple of tricks we can use here to write our Python code efficiently. The first is the use of the modulo operator (`%`). The modulo operator returns the whole number remainder of your division. \n",
    "\n",
    "For example, if you were to complete 5 % 2, the answer would be 1. Two can divide into five twice, with a remainder of 1.\n",
    "\n",
    "This leads us to the second trick we can use. When writing Python `if` statements, the assumption is that what is evaulated before the colon is true. This means that we don't have to write `is True` in Python. We can simply write the statement and the line after the colon will run if the statement is true, and not run if it isn't. You can read more about this assumption [here](https://www.programiz.com/python-programming/if-elif-else). \n",
    "\n",
    "In addition, there are a number of values in Python that will compare as False, with zero being one of the. (You can check out more details on those values [here](https://docs.python.org/2.4/lib/truth.html). This means that if zero is False, we can right a conditional statement that utilizes this.\n",
    "\n",
    "```python\n",
    "my_name = 'Rebecca'\n",
    "if len(my_name) % 2: # Odd length = 1, which evaluates as True\n",
    "    print('odd')\n",
    "else: # You don't need to complete a second comparison as there are only two options\n",
    "    print('even')\n",
    ">>> odd\n",
    "```"
   ]
  },
  {
   "cell_type": "markdown",
   "metadata": {},
   "source": [
    "## `for` Loops\n",
    "\n",
    "`for` loops are not something that we would use in standard SQL, but they allow us to handle comparisons with greater flexibility. For example, if we wanted to check which values in `['dog', 'cat', 2, 3, True]` were strings we could do something like this.\n",
    "\n",
    "```python\n",
    "my_list = ['dog', 'cat', 2, 3, True]\n",
    "if type(my_list[0]) == str:\n",
    "    print(my_list[0], ':', True)\n",
    "if type(my_list[1]) == str:\n",
    "    print(my_list[1], ':', True)\n",
    "if type(my_list[2]) == str:\n",
    "    print(my_list[2], ':', True)\n",
    "if type(my_list[3]) == str:\n",
    "    print(my_list[3], ':', True)\n",
    "if type(my_list[4]) == str:\n",
    "    print(my_list[4], ':', True)\n",
    "```\n",
    "\n",
    "However, this is very arduous and repetitive (something we try not to be when writing code!). This is where `for` loops come in. `for` loops allow us to move throw each element in a collection and complete an operation or a comparison. We also don't have to know the size of the collection to compare all values; the loop continues until the end.\n",
    "\n",
    "The above code turns into:\n",
    "```python\n",
    "for element in my_list:\n",
    "    if type(element) == str:\n",
    "        print(element, ':', True)\n",
    "```\n",
    "\n",
    "This is much easier to read, and faster to write. \n",
    "\n",
    "When working with a `for` loop one important point is that the name that is used after the word `for` is completely up to the coder. In the above example we could have used any name for the variable and it would have worked just as well. The key component is that whatever name we use in the initial line of the `for` statement must be used as the variable name for the reset of the function. Best practice is to use a descriptive name that gives the reader of your code some indication of what is inside your collection (though if it is a variety, sometimes a more generic `x` or `i` is appropriate).\n",
    "\n",
    "**Note:** This version of type testing is not best practice in Python, instead you should use the `isinstance()` function, as explained in the [PEP (Python Enhancement Protocols ) 8](https://www.python.org/dev/peps/pep-0008/#programming-recommendations). If you aren't certain about the functionality of the `isinstance()` function, consider how you could search for this information."
   ]
  },
  {
   "cell_type": "markdown",
   "metadata": {},
   "source": [
    "**1\\.** Use the cells below to confirm that the two versions of code above produce the same result. (Rather than copying and pasting the code, try typing it all out, it gives you practice with the syntax)"
   ]
  },
  {
   "cell_type": "code",
   "execution_count": null,
   "metadata": {},
   "outputs": [],
   "source": [
    "# Complete your code using only if statements\n"
   ]
  },
  {
   "cell_type": "code",
   "execution_count": null,
   "metadata": {},
   "outputs": [],
   "source": [
    "# Complete your code using a for loop\n"
   ]
  },
  {
   "cell_type": "markdown",
   "metadata": {},
   "source": [
    "2\\. Using the second version of the `for` loop, try changing the variable name - does it change the result?"
   ]
  },
  {
   "cell_type": "code",
   "execution_count": null,
   "metadata": {},
   "outputs": [],
   "source": [
    "# Use a different name for the variable in the for loop - does it change the result?\n"
   ]
  },
  {
   "cell_type": "markdown",
   "metadata": {},
   "source": [
    "_Double click to write your answer here._"
   ]
  },
  {
   "cell_type": "markdown",
   "metadata": {},
   "source": [
    "### Python Distinctives\n",
    "\n",
    "Another helpful element of Python is if we want to update the value of a variable. We can do this using the `+=` and `-+` operators. It is add to or subtract from the existing variable, and keep it stored. \n",
    "\n",
    "For example, if we did:\n",
    "```python\n",
    "my_number = 7\n",
    "my_number -= 3\n",
    "print(my_number)\n",
    ">>> 4\n",
    "```\n",
    "\n",
    "the value that is stored in `my_variable` would be changed to three less than seven, which is four."
   ]
  },
  {
   "cell_type": "code",
   "execution_count": null,
   "metadata": {},
   "outputs": [],
   "source": [
    "# Store 15 in a variable \n",
    "\n",
    "# Add 3 from your variable only using +\n"
   ]
  },
  {
   "cell_type": "code",
   "execution_count": null,
   "metadata": {},
   "outputs": [],
   "source": [
    "# Check to see if the variable was changed\n"
   ]
  },
  {
   "cell_type": "code",
   "execution_count": null,
   "metadata": {},
   "outputs": [],
   "source": [
    "# Now try with +=\n"
   ]
  },
  {
   "cell_type": "markdown",
   "metadata": {},
   "source": [
    "## `range()` Function"
   ]
  },
  {
   "cell_type": "markdown",
   "metadata": {},
   "source": [
    "Another helpful function when working with control flow is the `range()` function. Use the cell below to check out the documentation for the range function. To do this type `range()` in the cell and make sure the cursor is between the brackets. Then press Shift-Tab and a brief description of the function documentation will be shown. To see the full description, click the `+` button, and to get rid of the description, click the `x` button."
   ]
  },
  {
   "cell_type": "code",
   "execution_count": null,
   "metadata": {},
   "outputs": [],
   "source": [
    "# Check out the documentation of the range function\n"
   ]
  },
  {
   "cell_type": "markdown",
   "metadata": {},
   "source": [
    "**1\\.** Use the range function to check every value between 1 and 15 and print whether it is divisible by three."
   ]
  },
  {
   "cell_type": "code",
   "execution_count": null,
   "metadata": {},
   "outputs": [],
   "source": [
    "# Code your solution\n"
   ]
  },
  {
   "cell_type": "markdown",
   "metadata": {},
   "source": [
    "**2\\.** Find the sum of all values that are multiples of 4 between 1 and 60 inclusive. (Hint: You can start by assigning zero to a variable and summing as you go)"
   ]
  },
  {
   "cell_type": "code",
   "execution_count": null,
   "metadata": {},
   "outputs": [],
   "source": [
    "# Calculate your result\n"
   ]
  },
  {
   "cell_type": "markdown",
   "metadata": {},
   "source": [
    "When using `for` loops, one thing that can be helpful is to include print statements of different components to help you confirm what is happening in your solution, even if you don't use it in the final result. Below is how I coded my solution. Run the cell to see how the print statement helps confirm that each value is a multiple of 4."
   ]
  },
  {
   "cell_type": "code",
   "execution_count": null,
   "metadata": {},
   "outputs": [],
   "source": [
    "# Run this cell\n",
    "result = 0\n",
    "for x in range(0, 61, 4):\n",
    "    print(x)\n",
    "    result += x\n",
    "result"
   ]
  },
  {
   "cell_type": "markdown",
   "metadata": {},
   "source": [
    "## `zip()` Function\n",
    "\n",
    "The `zip()` function is quite helpful when wanting to combine and deal with the elements of multiple collections at once. For example, let's say that you had two lists, one that contained the names of the months of the year, and one that contained the number of days in each of those months. \n",
    "\n",
    "We could combine them to deal with the elements in each list simultaneously to print out the days of the months."
   ]
  },
  {
   "cell_type": "code",
   "execution_count": null,
   "metadata": {},
   "outputs": [],
   "source": [
    "# Run this cell to observe the functionality of zip\n",
    "months_of_year = ['January', 'February', 'March', 'April', 'May',\n",
    "                  'June', 'July', 'August', 'September', 'October',\n",
    "                  'November', 'December']\n",
    "days_of_month = [31, 28, 31, 30, 31, 30, 31, 31, 30, 31, 30, 31]\n",
    "\n",
    "for days, month in zip(days_of_month, months_of_year):\n",
    "    print('There are', days, 'days in', month)"
   ]
  },
  {
   "cell_type": "markdown",
   "metadata": {},
   "source": [
    "To correctly manage the zipping, the order of the variables must match the order in which you zipped them. Once again, it's helpful to use descriptive names to help your reader understand what is in the collections.\n",
    "\n",
    "What happens if the collections are of a different size?"
   ]
  },
  {
   "cell_type": "code",
   "execution_count": null,
   "metadata": {},
   "outputs": [],
   "source": [
    "# Run this cell to assign the variables\n",
    "names = ('Alex', 'Meredith', 'Christina', 'Lexi', 'George')\n",
    "toys = ('ball', 'doll', 'truck', 'dinosaur')"
   ]
  },
  {
   "cell_type": "code",
   "execution_count": null,
   "metadata": {},
   "outputs": [],
   "source": [
    "# Create a for loop that zips the two lists together\n",
    "# Each name in the list likes the toy in the same position of the other list\n",
    "# What happens if the sizes of the collections don't match?\n"
   ]
  },
  {
   "cell_type": "markdown",
   "metadata": {},
   "source": [
    "_Double click to edit and write your answer here._"
   ]
  },
  {
   "cell_type": "markdown",
   "metadata": {},
   "source": [
    "## `.format` Method\n",
    "\n",
    "If you tried to add a period into your `for` loops above, you might have noticed that you created a space between the variable name and the `.`. This is because when we use a comma between our variables in `print()`, it separates each item with a space. In the toys example, it would have also made sense if we could add an `s` onto the end, but it's not that easy to do that here.\n",
    "\n",
    "Enter the `.format` method! Methods, are functions that are attached to a particular object type. The format method works specifically on strings and allows us to insert variables into strings (and apply specific formatting if we want). "
   ]
  },
  {
   "cell_type": "code",
   "execution_count": null,
   "metadata": {},
   "outputs": [],
   "source": [
    "# Run this cell to observe the functionality of the .format method\n",
    "for name, toy in zip(names, toys):\n",
    "    print('{} likes {}s.'.format(name, toy))"
   ]
  },
  {
   "cell_type": "markdown",
   "metadata": {},
   "source": [
    "Each curly bracket matches up with one argument in the brackets of `.format`. The variable is inserted in the same order that was given to the method.\n",
    "\n",
    "Normally, when you want to add a non-string object to a string, like a number, you would have to convert the number to a string first. This is not needed with the `.format` method."
   ]
  },
  {
   "cell_type": "code",
   "execution_count": null,
   "metadata": {},
   "outputs": [],
   "source": [
    "# Re-print the days of the month using the .format method\n"
   ]
  },
  {
   "cell_type": "markdown",
   "metadata": {},
   "source": [
    "While I won't go into all of the details here, there's lots of things that you can place in those curly brackets to indicate the formatting you'd like your number to take. [This page](https://pyformat.info/) provides a comprehensive list of the avaliable options."
   ]
  },
  {
   "cell_type": "markdown",
   "metadata": {},
   "source": [
    "## `for` Loops for Dictionaries\n",
    "\n",
    "`for` loops can also be helpful in creating a dictionary. However, one thing that should be discussed before we get further into using `for` loops is a helpful practice in developing `for` loops. \n",
    "\n",
    "Especially if it's complicated, writing out one version of what would happen in the loop, as a \"test version\", helps to make sure the `for` loop is functional.\n",
    "\n",
    "Let's say that we wanted to create a dictionary that combines the days of the month so that they could be referenced by name from a dictionary. (We can use the variables we previously created)"
   ]
  },
  {
   "cell_type": "code",
   "execution_count": null,
   "metadata": {},
   "outputs": [],
   "source": [
    "# Create an empty diciontary called calendar\n"
   ]
  },
  {
   "cell_type": "markdown",
   "metadata": {},
   "source": [
    "We're going to use the month names as the keys and the days of the month as the values.\n",
    "\n",
    "If you were to use the first month as the key, and the days of the month for that month as the value, how would you assign that to a dictionary? (Make sure to use a reference to the list variables rather than just typing out the names/figures)"
   ]
  },
  {
   "cell_type": "code",
   "execution_count": null,
   "metadata": {},
   "outputs": [],
   "source": [
    "# Store the first month and days of the month by referencing the lists\n"
   ]
  },
  {
   "cell_type": "markdown",
   "metadata": {},
   "source": [
    "What we can see here is that it would be helpful to work with the elements of the lists in pairs and use one element as the key, and one element as the value. Use the cell below to create a `for` loop that helps use your knowledge of making the first key to do that."
   ]
  },
  {
   "cell_type": "code",
   "execution_count": null,
   "metadata": {},
   "outputs": [],
   "source": [
    "# Create the full dictionary\n"
   ]
  },
  {
   "cell_type": "markdown",
   "metadata": {},
   "source": [
    "Can you use a `for` loop to obtain the number of days in the year from the calendar dictionary and print out a sentence with the result? (Hint: can you loop through the values of the dictionary?)"
   ]
  },
  {
   "cell_type": "code",
   "execution_count": null,
   "metadata": {},
   "outputs": [],
   "source": [
    "# How many days are in a year?\n"
   ]
  },
  {
   "cell_type": "markdown",
   "metadata": {},
   "source": [
    "## List Comprehension\n",
    "\n",
    "List comprehension is another **Python distinctive** associated with `for` loops. There is a way to write a `for` loop to create a list that looks very different than your standard for loop.\n",
    "\n",
    "Let's say that you had a list that had the values 1 to 5."
   ]
  },
  {
   "cell_type": "code",
   "execution_count": null,
   "metadata": {},
   "outputs": [],
   "source": [
    "# Create a list of values without typing them out - could you use range?\n"
   ]
  },
  {
   "cell_type": "markdown",
   "metadata": {},
   "source": [
    "Now let's say that you wanted to get a list that contained all of these values multiplied by two.\n",
    "\n",
    "Start out with an empty list, and then assign the the multiplied values to the new list."
   ]
  },
  {
   "cell_type": "code",
   "execution_count": null,
   "metadata": {},
   "outputs": [],
   "source": [
    "# Create a list with the values multiplied by 2 - how do you add values to an empty list?\n"
   ]
  },
  {
   "cell_type": "markdown",
   "metadata": {},
   "source": [
    "This isn't too bad, but it can be a reasonable amount of code. There is a more succinct (and sometimes faster) to write this."
   ]
  },
  {
   "cell_type": "code",
   "execution_count": null,
   "metadata": {},
   "outputs": [],
   "source": [
    "# Run this cell to observe list comprehension\n",
    "alt_by_2 = [value * 2 for value in values]\n",
    "alt_by_2"
   ]
  },
  {
   "cell_type": "markdown",
   "metadata": {},
   "source": [
    "As we can see, the results of these are exactly the same. But, the list comprehension can be easier to write, even if it does take a bit to wrap your mind around it at the start. \n",
    "\n",
    "Let's break it down. \n",
    "1. We start by writing out the square brackets to designate a list.\n",
    "2. Then, we think about, \"What do I want to fill my list with?\" In this case we want to have each initial value multiplied by two. That's the first thing that we add to our square brackets.\n",
    "3. Then we add our `for` statement and use the same variable name that we used in Step 2.\n",
    "4. Then we add an `in` statement and reference our original list.\n",
    "\n",
    "Let's try another example. For the `names` variable we created earlier we are going to create an ID for each of them. The ID is going to be the first letter of their name and the number of letters in their name. Create the new list in a variable called `ids`. If you can, try doing as list comprehension first, but if not, try writing as a regular `for` loop and see if you can then create the list comprehension. (As with `for` loops, one way to prepare for list comprehension, is to work out what you would do for one example first)"
   ]
  },
  {
   "cell_type": "code",
   "execution_count": null,
   "metadata": {},
   "outputs": [],
   "source": [
    "# Create the ids list\n"
   ]
  },
  {
   "cell_type": "markdown",
   "metadata": {},
   "source": [
    "## `while` Loops\n",
    "\n",
    "While loops don't loop through elements within a collection. Instead, they continue to loop while the original loop is satisfied. Here is an example of a `while` loop. Run the cell below to see how it functions. "
   ]
  },
  {
   "cell_type": "code",
   "execution_count": null,
   "metadata": {},
   "outputs": [],
   "source": [
    "# Run this cell\n",
    "from random import randint\n",
    "\n",
    "question = 'Would you like to pick a random toy? '\n",
    "answer = input(question)\n",
    "while answer.lower() in ('y', 'yes'):\n",
    "    print('Here, have a {}.'.format(toys[randint(1, len(toys) - 1)]), '\\n')\n",
    "    answer = input(question)\n",
    "print('No toy for you!')"
   ]
  },
  {
   "cell_type": "markdown",
   "metadata": {},
   "source": [
    "If you're looking at the code above, it can seem quite intimidating. There are likely a lot of different elements that you haven't seen before. But this is intentional. As well as understanding the functioning of a `while` loop, we're going to use it to practice understanding unfamiliar code. \n",
    "\n",
    "When facing unfamiliar code, the first thing I would recommend doing is breaking it down into smaller elements and examining each of those independently whenever you can. One way to do that is to start with each line. Here's how I might break it down:\n",
    "\n",
    "1. _from random import randint_ : This is completely new functionality that we haven't seen, maybe we could Google this and find some answers.\n",
    "\n",
    "2. (this line is blank, don't need to do anything)\n",
    "3. _question = 'Would you like to pick a random toy? '_ : This is something we have seen before - we're just assigning a string to variable.\n",
    "4. _answer = input(question)_ : We're not super familiar with functions at the moment, but it looks like we're assigning the results of `input(answer)` to a variable. Maybe we can find some details about this function.\n",
    "5. _while answer.lower() in ('y', 'yes'):_ : There's definitely a lot of new things here and we might need to break it down further to look at all of the different elements, but we can see that it starts with a `while` and finishes with a colon, which is similar to what happens with our `if` and `for` control flow. We have some values in a tuple, and a `.lower`. The dot at the front suggests this is a method. \n",
    "6. _print('Here, have a {}.'.format(toys[randint(1, len(toys) - 1)]), '\\n')_ : This is another potentially intimidating line, but let's find what we know. There's a print statement, we can see the use of `.format` and there's a `len` function used. So it sounds like we're formating a string, and we're indexing the `toys` variable somehow, but some of the things we don't know about are `randint` and the `\\n`.\n",
    "7. _answer = input(question)_ : We've seen this before, it looks like we're updating this value in the `while` loop.\n",
    "8. _print('No toy for you!')_ : This part is outside the `while` loop. Does this always happen?\n",
    "\n",
    "You might not have noticed all of these things, or, you might have noticed different things, but this provides an example of how to start tackling unfamiliar code. Even now, we certainly haven't understood all of the components, but that's something we can do now."
   ]
  },
  {
   "cell_type": "markdown",
   "metadata": {},
   "source": [
    "**1\\.** Copy the phrase `from random import randint` into your brower's search and see what you can find out about this code."
   ]
  },
  {
   "cell_type": "markdown",
   "metadata": {},
   "source": [
    "_Double click to edit and put your answer here_."
   ]
  },
  {
   "cell_type": "markdown",
   "metadata": {},
   "source": [
    "When I searched, the first article that came up for me was [this one](https://www.pythonforbeginners.com/random/how-to-use-the-random-module-in-python). Just by the title we can see that `random` is a module within Python. We haven't encountered modules yet, but they are additional that gives you access to more functionality. In the case of Python, there are many different modules that we can import that have more specialized capabilities. Rather than bringing in a bunch of extra code that you will only use occassionally, Python is set up for you to import these more specialized modules when you need to use them. \n",
    "\n",
    "When we want to import a module in its entirety, we would use `import random`, for example. Then, when we are looking to access the functions within the module we would use the module name, then a dot, and then the function name, e.g. `random.randint`. However, in the same way that we don't always need to access all the Python modules, we also don't need to always access all of the functions within a module. If we just want to access a single or a few functions, we would use `from random import randint` as was done in the code we are examining (You could add more functions from the same module by separating them with a comma). When referencing the function in our code, we can just use the name of the function and leave out the module name and the dot. (Which is what we see done in line 6)\n",
    "\n",
    "While there is a bit more information that I've provided here than you might have found in just looking at one article, when I'm working out the details of new code, I will often open the first three or four articles that I find and review them. Often each one will provide additional information that can help you piece the details together. The other reason that I like reviewing multiple articles is that sometimes the first one that shows up isn't the easist to understand. By opening up multiple articles you give yourself more chances to understand what is going on. \n",
    "\n",
    "**2\\.** The next area that we might want to look into is the `input()` function. Use the cell below to review the documentation for input. "
   ]
  },
  {
   "cell_type": "code",
   "execution_count": null,
   "metadata": {},
   "outputs": [],
   "source": [
    "# Use this to review the input documentation\n",
    "input()"
   ]
  },
  {
   "cell_type": "markdown",
   "metadata": {},
   "source": [
    "Does the explanation help you determine how `input()` functions? If it's still unclear, you might wish to play around with using the `input()` function in the cell below to test your assumptions, or perhaps search for more information."
   ]
  },
  {
   "cell_type": "code",
   "execution_count": null,
   "metadata": {},
   "outputs": [],
   "source": [
    "# Use this cell to test the functionality of input if you wish\n"
   ]
  },
  {
   "cell_type": "markdown",
   "metadata": {},
   "source": [
    "We can now move on to Line 5, which has a number of new elements. We have identified that this is the beginning of the `while` loop but also can see the `in` reference. In Python we can also often take an attempt at understanding the meaning if we just read through the words. If we take out the `.lower()` component, we get \"while answer in ('y', 'yes'):\". \n",
    "\n",
    "**3\\.** Describe your understanding of \"while answer in ('y', 'yes'):\" in words below."
   ]
  },
  {
   "cell_type": "markdown",
   "metadata": {},
   "source": [
    "_Double click to edit and record your answer._"
   ]
  },
  {
   "cell_type": "markdown",
   "metadata": {},
   "source": [
    "To work out what `.lower()` does, we can consider a couple of things. As previously discussed, the `.` suggests that it is a method. This means that it will be attached to a specific class or data type, or, whatever is in `answer`. We've already confirmed that `answer` should be one of `y` or `yes`. This means that it is a string method. \n",
    "\n",
    "**4\\.** Search for results for `python lower` and see what results you get. (Hint: using python in front of the name of a function/method is a helpful way to ensure you get the right type of results from your search)"
   ]
  },
  {
   "cell_type": "markdown",
   "metadata": {},
   "source": [
    "_Double click to edit and record your answer here._"
   ]
  },
  {
   "cell_type": "code",
   "execution_count": null,
   "metadata": {},
   "outputs": [],
   "source": [
    "# Use this cell to test the functionality of .lower if you wish\n"
   ]
  },
  {
   "cell_type": "markdown",
   "metadata": {},
   "source": [
    "We can then move onto Line 6. As a refresher, this is what it looked like:\n",
    "\n",
    "```python\n",
    "print('Here, have a {}.'.format(toys[randint(1, len(toys) - 1)]), '\\n')\n",
    "```\n",
    "\n",
    "We can see that we are printing a string that we have formatted, but what are we formatting it with? We can separate out the part that is just inside the brackets `toys[randint(1, len(toys) - 1)]`. To understand what is happening, work through the questions below.\n",
    "\n",
    "**5.** What is the functionality of square brackets after an ordered variable?"
   ]
  },
  {
   "cell_type": "markdown",
   "metadata": {},
   "source": [
    "_Double click to edit and record your answer here._"
   ]
  },
  {
   "cell_type": "markdown",
   "metadata": {},
   "source": [
    "**6.** Based on what you learnt in Question 1 of this section, what do the two arguments of `randint` represent?"
   ]
  },
  {
   "cell_type": "markdown",
   "metadata": {},
   "source": [
    "_Double click to edit and record your answer here._"
   ]
  },
  {
   "cell_type": "markdown",
   "metadata": {},
   "source": [
    "**7\\.** What is the value of `len(toys) - 1`?"
   ]
  },
  {
   "cell_type": "code",
   "execution_count": null,
   "metadata": {},
   "outputs": [],
   "source": [
    "# Use this cell to confirm the answer\n"
   ]
  },
  {
   "cell_type": "markdown",
   "metadata": {},
   "source": [
    "**8\\.** Run `randint(1, len(toys) - 1)` multiple times in the cell below to confirm what is happening with this portion of the code. "
   ]
  },
  {
   "cell_type": "code",
   "execution_count": null,
   "metadata": {},
   "outputs": [],
   "source": [
    "# Use this cell to observe the functionality\n"
   ]
  },
  {
   "cell_type": "markdown",
   "metadata": {},
   "source": [
    "_Double click to edit and explain what is happening with `toys[randint(1, len(toys) - 1)]`._"
   ]
  },
  {
   "cell_type": "markdown",
   "metadata": {},
   "source": [
    "**9\\.** Why did we have to subtract 1 from the length of toys for this to function correctly?"
   ]
  },
  {
   "cell_type": "markdown",
   "metadata": {},
   "source": [
    "_Double click to edit and record your answer here._"
   ]
  },
  {
   "cell_type": "markdown",
   "metadata": {},
   "source": [
    "The final component of this line is the `\\n` value.\n",
    "\n",
    "**10\\.** We've explored a number of different strategies on how to work out the functionality of new code. Use those that make the most sense to you to work out what this code means."
   ]
  },
  {
   "cell_type": "code",
   "execution_count": null,
   "metadata": {},
   "outputs": [],
   "source": [
    "# Use the cell as needed\n"
   ]
  },
  {
   "cell_type": "markdown",
   "metadata": {},
   "source": [
    "_Double click to edit and record your answer here._"
   ]
  },
  {
   "cell_type": "markdown",
   "metadata": {},
   "source": [
    "The last two lines should be familiar, so now, we've worked through the full lines of code. A great test of whether you truly understand the code is whether you can briefly describe the functionality in words. \n",
    "\n",
    "**11\\.** Explain in a few sentences the functionality of the original code. "
   ]
  },
  {
   "cell_type": "markdown",
   "metadata": {},
   "source": [
    "_Double click to edit and record your answer here._"
   ]
  },
  {
   "cell_type": "markdown",
   "metadata": {},
   "source": [
    "## Extra Resources\n",
    "Once again, if you want to practice what has been explored in this notebook, you can check out the same [free course](https://www.udacity.com/course/introduction-to-python--ud1110) from Udacity. This time, the lesson to look at is **Lesson 3: Control Flow**."
   ]
  }
 ],
 "metadata": {
  "kernelspec": {
   "display_name": "Python (data_science)",
   "language": "python",
   "name": "data_science"
  },
  "language_info": {
   "codemirror_mode": {
    "name": "ipython",
    "version": 3
   },
   "file_extension": ".py",
   "mimetype": "text/x-python",
   "name": "python",
   "nbconvert_exporter": "python",
   "pygments_lexer": "ipython3",
   "version": "3.7.5"
  }
 },
 "nbformat": 4,
 "nbformat_minor": 2
}
