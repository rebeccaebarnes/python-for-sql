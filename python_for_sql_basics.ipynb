{
 "cells": [
  {
   "cell_type": "markdown",
   "metadata": {},
   "source": [
    "# Python for SQL Developers: Basic Comparisons\n",
    "\n",
    "## Important Differences\n",
    "\n",
    "**1. Python is case sensitive**"
   ]
  },
  {
   "cell_type": "code",
   "execution_count": null,
   "metadata": {},
   "outputs": [],
   "source": [
    "# Run this cell first\n",
    "python = 'A python is a type of snake. It is also a programming language.'"
   ]
  },
  {
   "cell_type": "code",
   "execution_count": null,
   "metadata": {},
   "outputs": [],
   "source": [
    "# Now run this cell\n",
    "Python"
   ]
  },
  {
   "cell_type": "markdown",
   "metadata": {},
   "source": [
    "**2. Python starts with 0**\n",
    "\n",
    "When referencing the first value in a variable, Python uses 0."
   ]
  },
  {
   "cell_type": "code",
   "execution_count": null,
   "metadata": {},
   "outputs": [],
   "source": [
    "# Run this to get the first value in the string\n",
    "python[0]"
   ]
  },
  {
   "cell_type": "code",
   "execution_count": null,
   "metadata": {},
   "outputs": [],
   "source": [
    "# What happens if we use [1] instead?\n"
   ]
  },
  {
   "cell_type": "markdown",
   "metadata": {},
   "source": [
    "**3. Equals is for variables**\n",
    "\n",
    "We use a single equals sign to assign values to variables in Python."
   ]
  },
  {
   "cell_type": "code",
   "execution_count": null,
   "metadata": {},
   "outputs": [],
   "source": [
    "# Assign the string 'There are key differences between Python and SQL.' to the variable difference\n"
   ]
  },
  {
   "cell_type": "code",
   "execution_count": null,
   "metadata": {},
   "outputs": [],
   "source": [
    "# Now compare python with difference to see if they are the same\n"
   ]
  },
  {
   "cell_type": "markdown",
   "metadata": {},
   "source": [
    "\"Does not equal\" is also different in Python. Python uses `!=` instead of `<>`. "
   ]
  },
  {
   "cell_type": "markdown",
   "metadata": {},
   "source": [
    "**4. NULL is None**\n",
    "\n",
    "In Python, the default for a null value is None. It needs to be written with the first letter as uppercase for Python to recognize it as the null value."
   ]
  },
  {
   "cell_type": "code",
   "execution_count": null,
   "metadata": {},
   "outputs": [],
   "source": [
    "# Run these two cells to compare the difference in the data type\n",
    "type(None)"
   ]
  },
  {
   "cell_type": "code",
   "execution_count": null,
   "metadata": {},
   "outputs": [],
   "source": [
    "# Compare with the above result\n",
    "type(none)"
   ]
  },
  {
   "cell_type": "markdown",
   "metadata": {},
   "source": [
    "**5. Code comments are different**\n",
    "\n",
    "In Python single line code comments are designated with the hash simple (`#`). This is the equivalent of the two dashes (`--`) in SQL. \n",
    "\n",
    "Multi-line comments are designated by wrapping the section with three single or double quotation marks (`'''` or `\"\"\"`) on either side. This is the equivalent of the slash and star (`/* */`) in SQL."
   ]
  },
  {
   "cell_type": "code",
   "execution_count": null,
   "metadata": {},
   "outputs": [],
   "source": [
    "# Run this cell one time with all lines uncommented. Then run again after removing the comments from the lines below\n",
    "# print('When code is commented, it does not run.')\n",
    "\"\"\"\n",
    "comment = 'But when they are removed, the code runs as expected.'\n",
    "comment\n",
    "\"\"\""
   ]
  },
  {
   "cell_type": "markdown",
   "metadata": {},
   "source": [
    "## Basic Data Types\n",
    "There are similarities between basic data types in Python and SQL. In Python there are four \"foundational\" data types. Here's how they map to SQL equivalents: \n",
    "- **string**: text, char, varchar\n",
    "- **integer**: numeric (whole numbers only)\n",
    "- **float**: numeric (decimal numbers)\n",
    "- **boolean**: similar to binary but not exact comparison\n",
    "\n",
    "The data types in Python can be separated from each other on two key dimensions - **immutability** and **orderedness**.\n",
    "\n",
    "An object or data type is **immutable** when the space it is assigned in memory cannot be changed. Immutable objects are faster to access compared to mutable objects. An object or data type is **ordered** when it's elements are stored in a specific order that can be referenced for future use. \n",
    "\n",
    "Let's explore the functionality of each of these basic data types in Python."
   ]
  },
  {
   "cell_type": "markdown",
   "metadata": {},
   "source": [
    "### Strings\n",
    "Strings (`str`) are Python's \"text\" data type. Strings are immutable and ordered. They are designated by using single or double quotes."
   ]
  },
  {
   "cell_type": "code",
   "execution_count": null,
   "metadata": {},
   "outputs": [],
   "source": [
    "# Each of these is a string data type\n",
    "'hello'\n",
    "\"hello\"\n",
    "''"
   ]
  },
  {
   "cell_type": "code",
   "execution_count": null,
   "metadata": {},
   "outputs": [],
   "source": [
    "# Confirm the type by running this cell - you can change the value to test each example\n",
    "type('hello')"
   ]
  },
  {
   "cell_type": "markdown",
   "metadata": {},
   "source": [
    "Strings in Python have some unique functionality. The can be added, multiplied and indexed. This is the equivalent of `||` or `CONCAT` in SQL."
   ]
  },
  {
   "cell_type": "code",
   "execution_count": null,
   "metadata": {},
   "outputs": [],
   "source": [
    "# Run this cell to see string addition\n",
    "intro = \"Hello\" + \" my name is \" + \"Rebecca\"\n",
    "intro"
   ]
  },
  {
   "cell_type": "code",
   "execution_count": null,
   "metadata": {},
   "outputs": [],
   "source": [
    "# Run this cell to see string multiplication - note the asterix for multiplication\n",
    "\"hello \" * 3"
   ]
  },
  {
   "cell_type": "markdown",
   "metadata": {},
   "source": [
    "Because strings are immutable, these operations create new objects, they don't change the original object that was assigned to memory.\n",
    "\n",
    "As previously mentioned, Python uses zero indexing. Using `[0]` will find the first character in the string."
   ]
  },
  {
   "cell_type": "code",
   "execution_count": null,
   "metadata": {},
   "outputs": [],
   "source": [
    "# Return the first character in the string 'hello'\n"
   ]
  },
  {
   "cell_type": "markdown",
   "metadata": {},
   "source": [
    "It is also possible to index Python strings from the right using negative numbers. The first value from the right is referenced with `[-1]`."
   ]
  },
  {
   "cell_type": "code",
   "execution_count": null,
   "metadata": {},
   "outputs": [],
   "source": [
    "# Return the last character in the string 'hello' by indexing from the right\n"
   ]
  },
  {
   "cell_type": "markdown",
   "metadata": {},
   "source": [
    "It is also possible to use indexing to select a slice of characters in Python. The colon (`:`) acts as the \"between\" indictor. Using it will collect the values in the string from the beginning position to one before the end position. "
   ]
  },
  {
   "cell_type": "code",
   "execution_count": null,
   "metadata": {},
   "outputs": [],
   "source": [
    "# Run this cell to return the slice\n",
    "'hello'[2:4]"
   ]
  },
  {
   "cell_type": "markdown",
   "metadata": {},
   "source": [
    "If starting from the first character of a string, or finishing witht the final character, then this value can be left blank."
   ]
  },
  {
   "cell_type": "code",
   "execution_count": null,
   "metadata": {},
   "outputs": [],
   "source": [
    "# Run this cell to return the first two characters\n",
    "'hello'[:2]"
   ]
  },
  {
   "cell_type": "code",
   "execution_count": null,
   "metadata": {},
   "outputs": [],
   "source": [
    "# Return the last two characters of 'hello'\n"
   ]
  },
  {
   "cell_type": "markdown",
   "metadata": {},
   "source": [
    "This is the equivalent of `SUBSTRING` in SQL."
   ]
  },
  {
   "cell_type": "markdown",
   "metadata": {},
   "source": [
    "### Integers\n",
    "Integers (`int`) are whole numbers in Python. The lack of a need for a decimal place makes them smaller to store in memory. Integers are immutable and unordered (they cannot be sliced or indexed). They are designated by their number."
   ]
  },
  {
   "cell_type": "code",
   "execution_count": null,
   "metadata": {},
   "outputs": [],
   "source": [
    "# Each of these is an integer data type\n",
    "1\n",
    "5000\n",
    "-387"
   ]
  },
  {
   "cell_type": "code",
   "execution_count": null,
   "metadata": {},
   "outputs": [],
   "source": [
    "# Use type() to confirm that each of the above is integer type\n"
   ]
  },
  {
   "cell_type": "markdown",
   "metadata": {},
   "source": [
    "Just because an object looks like a number doesn't mean it is a number!"
   ]
  },
  {
   "cell_type": "code",
   "execution_count": null,
   "metadata": {},
   "outputs": [],
   "source": [
    "# Run this cell to compare the differences between the two\n",
    "string = '1'\n",
    "number = 1\n",
    "print(string, type(string))\n",
    "print(number, type(number))"
   ]
  },
  {
   "cell_type": "markdown",
   "metadata": {},
   "source": [
    "Integers can be used in all of the regular arithmetic and mathematical functions."
   ]
  },
  {
   "cell_type": "code",
   "execution_count": null,
   "metadata": {},
   "outputs": [],
   "source": [
    "# Find the sum of 59 and 72\n"
   ]
  },
  {
   "cell_type": "code",
   "execution_count": null,
   "metadata": {},
   "outputs": [],
   "source": [
    "# What is 23 minus 418?\n"
   ]
  },
  {
   "cell_type": "code",
   "execution_count": null,
   "metadata": {},
   "outputs": [],
   "source": [
    "# Find 8 multiplied by  75\n"
   ]
  },
  {
   "cell_type": "markdown",
   "metadata": {},
   "source": [
    "Division uses the `/` symbol."
   ]
  },
  {
   "cell_type": "code",
   "execution_count": null,
   "metadata": {},
   "outputs": [],
   "source": [
    "# Run this cell to complete the division\n",
    "divide = 24/2\n",
    "print(divide)\n",
    "type(divide)"
   ]
  },
  {
   "cell_type": "markdown",
   "metadata": {},
   "source": [
    "Note the change in type as a result of completing the division."
   ]
  },
  {
   "cell_type": "markdown",
   "metadata": {},
   "source": [
    "_Double click to edit this cell to record your observation_"
   ]
  },
  {
   "cell_type": "markdown",
   "metadata": {},
   "source": [
    "To square a value, or find one value to the power of another, Python uses two asterix (`**`), the equivalent of the `POWER` function in SQL."
   ]
  },
  {
   "cell_type": "code",
   "execution_count": null,
   "metadata": {},
   "outputs": [],
   "source": [
    "# What is 36 squared?\n"
   ]
  },
  {
   "cell_type": "markdown",
   "metadata": {},
   "source": [
    "It's also possible to change data types using the data type names."
   ]
  },
  {
   "cell_type": "code",
   "execution_count": null,
   "metadata": {},
   "outputs": [],
   "source": [
    "# Run this cell to convert the second number to an int\n",
    "new_number = int('2342'[1])\n",
    "type(new_number)"
   ]
  },
  {
   "cell_type": "markdown",
   "metadata": {},
   "source": [
    "### Floats\n",
    "Floats are Python's floating point datatype, or \"real numbers\". They are designated by a decimal point. They are immutable and unordered."
   ]
  },
  {
   "cell_type": "code",
   "execution_count": null,
   "metadata": {},
   "outputs": [],
   "source": [
    "# Each of these is a float data type\n",
    "2.\n",
    ".384\n",
    "-353.34322"
   ]
  },
  {
   "cell_type": "code",
   "execution_count": null,
   "metadata": {},
   "outputs": [],
   "source": [
    "# Use this cell to test the type of each of the above\n"
   ]
  },
  {
   "cell_type": "markdown",
   "metadata": {},
   "source": [
    "Everything we can do with ints we can do with floats. It's also possible to convert floats to ints."
   ]
  },
  {
   "cell_type": "code",
   "execution_count": null,
   "metadata": {},
   "outputs": [],
   "source": [
    "# Run this cell to observe what happens when a float is converted to an int\n",
    "int(-353.74322)"
   ]
  },
  {
   "cell_type": "markdown",
   "metadata": {},
   "source": [
    "_Double click to edit this cell to record your answer - what SQL function has a similar behavior?_"
   ]
  },
  {
   "cell_type": "markdown",
   "metadata": {},
   "source": [
    "### Boolean\n",
    "Booleans are logical values that can be one of two values, True or False. Booleans are also immutable and unordered."
   ]
  },
  {
   "cell_type": "code",
   "execution_count": null,
   "metadata": {},
   "outputs": [],
   "source": [
    "# Find the data type of True and False\n"
   ]
  },
  {
   "cell_type": "code",
   "execution_count": null,
   "metadata": {},
   "outputs": [],
   "source": [
    "# What happens if you try to find the data type of true?\n",
    "type(true)"
   ]
  },
  {
   "cell_type": "markdown",
   "metadata": {},
   "source": [
    "Booleans typically act as the results of comparisons."
   ]
  },
  {
   "cell_type": "code",
   "execution_count": null,
   "metadata": {},
   "outputs": [],
   "source": [
    "# Consider the results of each expression before running the cell - do the results match your assessments\n",
    "print(7 <= 10)\n",
    "print(8 == 8)\n",
    "print(8 != 8)"
   ]
  },
  {
   "cell_type": "markdown",
   "metadata": {},
   "source": [
    "Boolean values can be used in their boolean forms but also function as numbers in mathematical functions.\n",
    "\n",
    "Use the cells below to find the results of the following:\n",
    "1. True plus True\n",
    "2. False minus True\n",
    "3. True multipled by 4\n",
    "4. True divided by 5"
   ]
  },
  {
   "cell_type": "code",
   "execution_count": null,
   "metadata": {},
   "outputs": [],
   "source": [
    "# Cell for working\n"
   ]
  },
  {
   "cell_type": "code",
   "execution_count": null,
   "metadata": {},
   "outputs": [],
   "source": [
    "# Cell for working\n"
   ]
  },
  {
   "cell_type": "code",
   "execution_count": null,
   "metadata": {},
   "outputs": [],
   "source": [
    "# Cell for working\n"
   ]
  },
  {
   "cell_type": "code",
   "execution_count": null,
   "metadata": {},
   "outputs": [],
   "source": [
    "# Cell for working\n"
   ]
  },
  {
   "cell_type": "markdown",
   "metadata": {},
   "source": [
    "Based on your observations of the use of the boolean values in mathematical operations, what value do each of True and False default to?"
   ]
  },
  {
   "cell_type": "markdown",
   "metadata": {},
   "source": [
    "_Double click to edit and record your answer_"
   ]
  }
 ],
 "metadata": {
  "kernelspec": {
   "display_name": "Python [conda env:sql]",
   "language": "python",
   "name": "conda-env-sql-py"
  },
  "language_info": {
   "codemirror_mode": {
    "name": "ipython",
    "version": 3
   },
   "file_extension": ".py",
   "mimetype": "text/x-python",
   "name": "python",
   "nbconvert_exporter": "python",
   "pygments_lexer": "ipython3",
   "version": "3.7.3"
  }
 },
 "nbformat": 4,
 "nbformat_minor": 2
}
