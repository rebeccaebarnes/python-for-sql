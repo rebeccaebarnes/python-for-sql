{
 "cells": [
  {
   "cell_type": "markdown",
   "metadata": {},
   "source": [
    "# Python for SQL: Functions\n",
    "\n",
    "What are functions? They are pre-built code that allows the execution of a particular task. There are actually many different functions that are used in SQL. These include things like math functions `AVG`, `FLOOR`, `MAX`, and string functions like `TRIM`, `LOWER`, `RIGHT`. (If you wanted to see a long list of SQL functions, you can check out [this page](https://www.w3schools.com/sql/sql_ref_sqlserver.asp))\n",
    "\n",
    "Python also has many built-in functions, but the true power of a programming language is that we can build our own functions. We'll use our knowledge of built-in functions to understand the elements of a function in Python. \n",
    "\n",
    "**Note:** In this notebook I'll sometimes provide additional tips on a question that also provide the answer. Try not to scroll ahead if you want to maximize your learning!\n",
    "\n",
    "## Components of a Function\n",
    "Let's consider the SQL function [`AVG`](https://www.w3schools.com/sql/sql_count_avg_sum.asp). We'd write a query to find the average price something like this.\n",
    "\n",
    "```sql\n",
    "SELECT AVG(price)\n",
    "FROM sales\n",
    "```\n",
    "\n",
    "We could describe the components as:\n",
    "- Function name\n",
    "- Arguments/parameters\n",
    "- Function output\n",
    "\n",
    "### Name of the Function\n",
    "Functions in SQL have specific names, and, if you spell it incorrectly, the function will not execute because the program doesn't understand the reference. We also typically identify functions because the name is accompanied by a set of brackets. \n",
    "\n",
    "Functions in Python work the same way - they have a specific name and are defined with brackets. When naming functions in Python we typically use snake case, the same as variables. \n",
    "\n",
    "### Arguments/Parameters\n",
    "Inside the brackets of `AVG` we find the `price` column. We would call `price` the argument or parameter for the function. Arguments can be required, variable in length, optional or not used. \n",
    "- **Required:** In the case of `AVG`, it is necessary to indicate which column is to be averaged. Otherwise, the function will have no idea what should be calculated. \n",
    "- **Variable:** In the case of [`COALESCE`](https://www.w3schools.com/sql/func_sqlserver_coalesce.asp), while an argument is required, the number of columns that can be used in the function is variable.\n",
    "- **Optional:** For [`ROUND`](https://www.w3schools.com/sql/func_sqlserver_round.asp) we have an example of an optional argument. The function will run without providing this information, based on a default functionality, but if we'd like more control on the operation, we can include the optional argument.\n",
    "- **Not used:** A function may be constructed so that we don't need an argument at all. In [`PI`](https://www.w3schools.com/sql/func_sqlserver_pi.asp) no arguments are needed because the calculation does not need additional outside information to execute.\n",
    "\n",
    "Once again, all of these principles work in Python functions! We'll explore these in detail below.\n",
    "\n",
    "### Function Output\n",
    "In SQL, when we use a function, it is set up to have some kind of output or impact on the output. While this is also what we want to do in Python, when we start constructing them, we have to specify that this occurs. Without it, it's possible for a function to successfully execute without anything happening to the end result!\n",
    "\n",
    "## Building a Function\n",
    "Let's build a function in Python that operates in the same fashion as `AVG` in SQL. \n",
    "\n",
    "What do we know about its functionality? How does it handle NULL values?"
   ]
  },
  {
   "cell_type": "markdown",
   "metadata": {},
   "source": [
    "_Double click to edit and record your answer._"
   ]
  },
  {
   "cell_type": "markdown",
   "metadata": {},
   "source": [
    "### Development Steps\n",
    "When building functions a great strategy is to \n",
    "1. Write out in steps and words what the function should do\n",
    "2. Start with the simple/easy/obvious parts to make sure it's working and then add in the trickier parts\n",
    "3. Confirm your functionality outside of the function, then add details when you're confident it works\n",
    "\n",
    "We've already done the first part with our answer above, but now, let's break that down even further. \n",
    "\n",
    "When we're trying to find an average, typically what we do is:\n",
    "- Sum up all the values\n",
    "- Divide by the total number of values\n",
    "\n",
    "So let's start to build our function. As we've said before, in Python, a function has a name, followed by brackets. When defining a function, we need to put the term `def` in font, and the brackets are followed by a colon (`:`), and the next line is indented (exactly the same as we would use in our control functions).\n",
    "\n",
    "It would look something like this.\n",
    "\n",
    "```python\n",
    "def my_function():\n",
    "    do_something\n",
    "```\n",
    "\n",
    "We could call the above \"pseudo-code\" because what is written in the function isn't actual code (and will produce an error if you attempt to run it), but it gives an idea of what should be happening. \n",
    "\n",
    "So, we're going to create a function called `my_average`. On the second line, instead of \"do_something\", just had a `#` as a code comment for the time being.\n",
    "\n",
    "### Defining a Function: the first line\n",
    "**1\\.** In the cell below, write out how you would begin assigning the function. Don't try to run this cell just yet, as it would cause an error. (Hint: If you're unsure, compare what you've written to the first line of the example above - it should look similar)"
   ]
  },
  {
   "cell_type": "code",
   "execution_count": null,
   "metadata": {},
   "outputs": [],
   "source": [
    "# Write the first line to define your function\n",
    "    "
   ]
  },
  {
   "cell_type": "markdown",
   "metadata": {},
   "source": [
    "From here, we can start to think about what else to include. If we are going to average something, then we'll need to tell the function what to use. \n",
    "\n",
    "**2\\.** What would we need to do to do that?"
   ]
  },
  {
   "cell_type": "markdown",
   "metadata": {},
   "source": [
    "_Double click to edit and record your answer._"
   ]
  },
  {
   "cell_type": "markdown",
   "metadata": {},
   "source": [
    "In addition, we need to think about the form that our argument will take. We might want to use one of our collections. \n",
    "\n",
    "**3\\.** Are there any collections that you think would be most appropriate here?"
   ]
  },
  {
   "cell_type": "markdown",
   "metadata": {},
   "source": [
    "_Double click to edit and record your answer._"
   ]
  },
  {
   "cell_type": "markdown",
   "metadata": {},
   "source": [
    "If we're going to add up a number of elements, something like a list or a tuple is likely going to be our best bet. The first thing that we said we wanted to do was to add up all of the elements. \n",
    "\n",
    "### Beginning Functionality: the indented lines\n",
    "**4\\.** Use the cell below to define a list or tuple that has numeric elements and then write code that would add up all the elements. Don't forget to use good descriptive names for your variables."
   ]
  },
  {
   "cell_type": "code",
   "execution_count": null,
   "metadata": {},
   "outputs": [],
   "source": [
    "# Define your collection and add up all the elements\n"
   ]
  },
  {
   "cell_type": "markdown",
   "metadata": {},
   "source": [
    "Now that we've worked out the first part of our code, we can add it to our function. We're going to want to do two things.\n",
    "1. Add a name to indicate our argument\n",
    "2. Include the code that sums up the elements in our collection\n",
    "\n",
    "**Note:** For your function to work, it is essential that you use the same name in your code for the collection as you did in your argument.\n",
    "\n",
    "**5\\.** Have a go at defining your function, you might not quite get it right, but I'll provide a suggested version afterwards. (Make sure not to peak for maximum learning!)"
   ]
  },
  {
   "cell_type": "code",
   "execution_count": null,
   "metadata": {},
   "outputs": [],
   "source": [
    "# Define my_average to sum up all the values\n"
   ]
  },
  {
   "cell_type": "markdown",
   "metadata": {},
   "source": [
    "Here's how I defined my function at this point.\n",
    "<br>\n",
    "<br>\n",
    "\n",
    "<details>\n",
    "    <summary><span style=\"color:blue\">Click to see my function</span></summary>\n",
    "    \n",
    "```python\n",
    "def my_average(numbers):\n",
    "    total = 0\n",
    "    \n",
    "    for number in numbers:\n",
    "        total += number\n",
    "```\n",
    "</details>\n",
    "\n",
    "If you attempted to run the cell that defines your function you will discover that it doesn't produce an error. This is because we've now given Python enough information to execute some code. It now knows that there is a function, called `my_average` and will execute it based on the information we've provided.\n",
    "\n",
    "Now that we've added an arugment to our function, it's worth considering what type of argument this is. \n",
    "\n",
    "**6\\.** Is it required, variable, optional or not used? Why would you say this?"
   ]
  },
  {
   "cell_type": "markdown",
   "metadata": {},
   "source": [
    "_Double click to edit and record your answer._"
   ]
  },
  {
   "cell_type": "markdown",
   "metadata": {},
   "source": [
    "**7\\.** Now, have a go at executing your code. Use the original variable where you stored your collection of numbers as the argument for the function and run it. What happens?"
   ]
  },
  {
   "cell_type": "code",
   "execution_count": null,
   "metadata": {},
   "outputs": [],
   "source": [
    "# Use this cell to run your function\n"
   ]
  },
  {
   "cell_type": "markdown",
   "metadata": {},
   "source": [
    "_Double click to edit and record your answer._"
   ]
  },
  {
   "cell_type": "markdown",
   "metadata": {},
   "source": [
    "If you've defined your function similarly to mine, you would likely be tempted to say that \"nothing\" happened. However, this is not exactly true. Instead, what happened is that the function added up all the numbers in the list but we hadn't told the function to do anything with the result. \n",
    "\n",
    "In addition, because we defined the variable for the result _inside_ the function, we can't access it outside of the function. (You could try this in a cell below - type out the name of the variable you used in your function and see what happens) This is called a local variable. Local variables can be used within the function, but if we want to access them in our regular coding outside the function we need to _return_ them. We do this as follows.\n",
    "\n",
    "```python\n",
    "def my_average(numbers):\n",
    "    result = 0\n",
    "    \n",
    "    for number in numbers:\n",
    "        result += number\n",
    "        \n",
    "    return result\n",
    "```\n",
    "\n",
    "This is similar to what we have done when we store a value in a variable and then we want to look at the results. We have to either print the variable or run the name in the code. \n",
    "\n",
    "### Returning Results: the final line\n",
    "It's also important to pay attention to the indentation used here. We want to return the final value outside of the `for` loop. To do that we need to make sure that the `return` statement has the same indentation as the beginning of the code in our function. (It's also worth noting that if we aligned the `return` statement with `def` the statement would not be part of the function and would result in an error)\n",
    "\n",
    "It's also worth noting that it is typically considered a best practice in computer science to only have one `return` statement in a function. This reduces confusing in understanding the functionality of the function and can also help in maintaining the code. A function will also stop executing once it returns a result, so including the return statement at the end helps you to be clear about what is or is not happening to produce the result. Python does not _require_ this use of `return` - the function will operate with multiple return statements in various places - but its a good discipline to practice wherever possible.\n",
    "\n",
    "**8\\.** Use the cell below to redefine your function with a return statement for the end result and then rerun your function to sum up your collection."
   ]
  },
  {
   "cell_type": "code",
   "execution_count": null,
   "metadata": {},
   "outputs": [],
   "source": [
    "# Redefine your my_average function with a return statement\n"
   ]
  },
  {
   "cell_type": "code",
   "execution_count": null,
   "metadata": {},
   "outputs": [],
   "source": [
    "# Rerun the summing of your collection\n"
   ]
  },
  {
   "cell_type": "markdown",
   "metadata": {},
   "source": [
    "Note that if we define a function and run the cell, there is no output. The code ran to store the function, but there is no output from doing so.\n",
    "\n",
    "If we want to check that how we've defined our function matches what we worked out when developing the code outside the function, we'll need to run the function with its appropriate arguments. (Which is what we just did)\n",
    "\n",
    "We could run all of the above in one cell, but if we know that we might go back and edit a function, then it's helpful to have the function in a single cell so that we only rerun the code that is edited.\n",
    "\n",
    "### Building Functionality: back to the middle\n",
    "We've now successfully built a function that adds up all the values in a collection. We now want to develop this further by actually finding the average. We would do this by dividing by the total number of values.\n",
    "\n",
    "**9\\.** How would you find the total number of values in the collection?"
   ]
  },
  {
   "cell_type": "code",
   "execution_count": null,
   "metadata": {},
   "outputs": [],
   "source": [
    "# Find the total number of values\n"
   ]
  },
  {
   "cell_type": "markdown",
   "metadata": {},
   "source": [
    "Now we can divide our summed values by this number. You can use the cells below to either experiment with how this should be done outside of the function, or, if you are feeling confident, directly write it into the function and execute it on your collection to see if it matches your expectations.\n",
    "\n",
    "**10\\.** Update your function to find the average."
   ]
  },
  {
   "cell_type": "code",
   "execution_count": null,
   "metadata": {},
   "outputs": [],
   "source": [
    "# Use these cells to update your function\n"
   ]
  },
  {
   "cell_type": "code",
   "execution_count": null,
   "metadata": {},
   "outputs": [],
   "source": [
    "# Use these cells to update your function\n"
   ]
  },
  {
   "cell_type": "code",
   "execution_count": null,
   "metadata": {},
   "outputs": [],
   "source": [
    "# Use these cells to update your function\n"
   ]
  },
  {
   "cell_type": "markdown",
   "metadata": {},
   "source": [
    "Here's how I defined my function.\n",
    "<br>\n",
    "<br>\n",
    "\n",
    "<details>\n",
    "    <summary><span style=\"color:blue\">Click to see my function</span></summary>\n",
    "    \n",
    "```python\n",
    "def my_average(numbers):\n",
    "    total_sum = 0\n",
    "\n",
    "    for number in numbers:\n",
    "        total_sum += number\n",
    "    \n",
    "    total_values = len(numbers)\n",
    "    average = total_sum/total_values\n",
    "    \n",
    "    return average\n",
    "```\n",
    "\n",
    "</details>\n",
    "\n",
    "What you'll notice about this function is that I have used variable names that help to clarify what is happening throughout the function. It's very clear to see that the average is the result of dividing the total sum by the total number of values, even if you aren't very familiar with reading code in Python. \n",
    "\n",
    "I could have written a more succinct version using something like this.\n",
    "<br>\n",
    "<br>\n",
    "\n",
    "<details>\n",
    "    <summary><span style=\"color:blue\">Click to see my function</span></summary>\n",
    "    \n",
    "```python\n",
    "def my_average(numbers):\n",
    "    total_sum = 0\n",
    "\n",
    "    for number in numbers:\n",
    "        total_sum += number\n",
    "    \n",
    "    return total_sum/len(numbers)\n",
    "```\n",
    "\n",
    "</details>\n",
    "\n",
    "Compare the two versions - what do you think? How does this one compare in readability to the previous version? \n",
    "\n",
    "With fewer lines of code this version is more succinct, but it is harder for someone who is not familiar with Python to understand it. They might not know what `len` does and so will be less confident in understanding the functionality just by reading the code. Writing succinct code can speed up the performance of your code and the balance between readability or code and succinctness is one that you will need to manage going forward. However, writing code that is easily understood by those unfamiliar with your code, or for yourself when you come back six months later and have completely forgotten what you were doing, is best practice. If the decrease in performance is limited, it is typically better to prefer readability. (As can be found in the [Python Zen](https://www.python.org/dev/peps/pep-0020/))\n",
    "\n",
    "### Managing the Unexpected: error management\n",
    "We could say that we are finished developing our code at this point. We've been able to successfully calculate the average of a collection of numbers. But, one thing that the SQL `AVG` function does is manage NULL values. If a NULL is included in the column we are averaging, it will be excluded from the calculations.\n",
    "\n",
    "**11\\.** Create a new collection where one of the elements is `None`, along with the numeric values. Try executing your function."
   ]
  },
  {
   "cell_type": "code",
   "execution_count": null,
   "metadata": {},
   "outputs": [],
   "source": [
    "# Run the function on a collection that includes None as an element\n"
   ]
  },
  {
   "cell_type": "markdown",
   "metadata": {},
   "source": [
    "You should notice that an error occurs. Here's what my error looked like.\n",
    "\n",
    "![pic](function_error.png)\n",
    "\n",
    "If you are running your code and you receive an error, the first thing to remember is **don't panic**. Errors are a normal part of building code and doesn't mean that you are doing a bad job or don't know what your doing. In addition, the error messages are actually designed to help you understand what went wrong. \n",
    "\n",
    "There's two things that I normally like to understand when reading the error message.\n",
    "1. What is the error - this can usually be found by at then end of the error message (you might need to scroll) and gives a summary of what has happened\n",
    "2. Where did it happen - the error message gives us information about what line the error occurred on\n",
    "\n",
    "In this case, the error message that I received was _TypeError: unsupported operand type(s) for +=: 'int' and 'NoneType'_. Sometimes the error message can be understood just by reading it (and as you become more practiced this will more often be the case), but if you don't understand it, Google is once again your friend!\n",
    "\n",
    "**12\\.** Google the error message that I received - do the results help you understand the meaning of the message? "
   ]
  },
  {
   "cell_type": "markdown",
   "metadata": {},
   "source": [
    "_Double click to edit and record your understanding of the error message._"
   ]
  },
  {
   "cell_type": "markdown",
   "metadata": {},
   "source": [
    "Learning how to search for error messages and other problems and interpreting what you find and applying it to your own situation is a _very important_ skill to learn as you develop your coding prowess. Everyone does this and so it's worth getting used to. \n",
    "\n",
    "In my case, the first search result I found was this:\n",
    "- [Python Error: unsupported operand type(s) for +: 'int' and 'NoneType'](https://stackoverflow.com/questions/24110282/python-error-unsupported-operand-types-for-int-and-nonetype)\n",
    "\n",
    "Welcome to StackOverflow! This is a repository of questions and answers that you will return to time and time again, so it's good to get used to its format. The title of this entry very closely matches the error that we produced, however, the specifics are different. This is also something we need to get used to - understanding how the learnings of one situation apply to our own, even when the specifics are different. \n",
    "\n",
    "In reading the highest rated answer we find this statement. (The highest rated answer on StackOverflow is typically the 'best' answer, but it may not be the first answer. It is worth reading through the first few to see if they add anything to your understanding)\n",
    "> Whenever you see an error that include 'NoneType' that means that you have an operand or an object that is None when you were expecting something else.\n",
    "\n",
    "This doesn't quite apply to our situation, because we were expecting to have a null, but it does suggest that None and an operand (+, -, \\*, /, etc) don't go well together.\n",
    "\n",
    "To find some more details, I opened up a number of other results from my search and found this:\n",
    "- [A Beginner's Python Tutorial/Exception Handling](https://en.wikibooks.org/wiki/A_Beginner%27s_Python_Tutorial/Exception_Handling)\n",
    "\n",
    "There is a lot more detail here than we need, but if we scroll down to \"Code Example 9\" we find the exact error message we have, and we get this explanation.\n",
    ">There is no returned value? So what is 1 + ... well, we have no clue what we are adding 1 to!\n",
    "\n",
    "With this, we can understand that Python has no idea how to add `None` to anything - it doesn't have a coded value. \n",
    "\n",
    "This presents us with two issues that we need to manage.\n",
    "1. We need to not sum values that are None.\n",
    "2. If we are to match the SQL `AVG` functioning, we need to not count these null elements.\n",
    "\n",
    "When it comes to how we implement the solutions for these problems, this is where the possibilities can be endless! But we'll look at a couple. \n",
    "\n",
    "**13\\.** If you really want to challenge yourself, why don't you try redefining the function to handle the None values right now. If you get stuck, maybe scroll down a bit for some information and see if you can get some help before retrying your own version. (Hint: You'll want to think about how you test whether each element is not `None` and work out how to not count those values for the denominator)"
   ]
  },
  {
   "cell_type": "code",
   "execution_count": null,
   "metadata": {},
   "outputs": [],
   "source": [
    "# Use these cells to update your function\n"
   ]
  },
  {
   "cell_type": "code",
   "execution_count": null,
   "metadata": {},
   "outputs": [],
   "source": [
    "# Use these cells to update your function\n"
   ]
  },
  {
   "cell_type": "code",
   "execution_count": null,
   "metadata": {},
   "outputs": [],
   "source": [
    "# Use these cells to update your function\n"
   ]
  },
  {
   "cell_type": "markdown",
   "metadata": {},
   "source": [
    "If you weren't so confident in defining the function for yourself, here's a potential solution.\n",
    "<br>\n",
    "<br>\n",
    "\n",
    "<details>\n",
    "    <summary><span style=\"color:blue\">Click to see my solution</span></summary>\n",
    "    \n",
    "```python\n",
    "def my_average(numbers):\n",
    "    total_sum = 0\n",
    "    total_values = 0\n",
    "\n",
    "    for number in numbers:\n",
    "        if number:\n",
    "            total_sum += number\n",
    "            total_values += 1\n",
    "    \n",
    "    average = total_sum/total_values\n",
    "    \n",
    "    return average\n",
    "```\n",
    "\n",
    "</details>\n",
    "\n",
    "The key change that I made here was to add an `if` statement after `for number in numbers:`. This utilizes functionality we've discussed before - `None` is evaluated as `False` and so the code will only attempt to add the element to `total_sum` if it is not `None`.\n",
    "\n",
    "In addition, to manage only counting the non-`None` values, instead of using `len`, I also kept a running total of the number of values with the same `for` loop that I used to sum the values. \n",
    "\n",
    "This resulted in minimal changes to the existing code, while still managing the values that are None.\n",
    "\n",
    "At this point we can say that we have successfully replicated the functionality of `AVG` in SQL. And, we could say that we are happy with our development and stop here. But what happens if we have an element that is not `None` and not numerical in our collection?"
   ]
  },
  {
   "cell_type": "code",
   "execution_count": null,
   "metadata": {
    "scrolled": true
   },
   "outputs": [],
   "source": [
    "# Run this cell\n",
    "my_list = list(range(1, 11))\n",
    "my_list.append('cat')\n",
    "my_average(my_list)"
   ]
  },
  {
   "cell_type": "markdown",
   "metadata": {},
   "source": [
    "Once again, you should receive an error. \n",
    "\n",
    "**14\\.** Why did this happen?"
   ]
  },
  {
   "cell_type": "markdown",
   "metadata": {},
   "source": [
    "_Double click to edit and record your answer._"
   ]
  },
  {
   "cell_type": "markdown",
   "metadata": {},
   "source": [
    "While we would never expect to find a different data type in a column in SQL, in Python, it is absolutely possible to find collections that store many different data types. One way that we could handle this is to only sum values within the collection that are numeric.\n",
    "\n",
    "**15\\.** Once again, if you're feeling adventurous, why not try to update the function on your own."
   ]
  },
  {
   "cell_type": "code",
   "execution_count": null,
   "metadata": {},
   "outputs": [],
   "source": [
    "# Use these cells to update your function\n"
   ]
  },
  {
   "cell_type": "code",
   "execution_count": null,
   "metadata": {},
   "outputs": [],
   "source": [
    "# Use these cells to update your function\n"
   ]
  },
  {
   "cell_type": "code",
   "execution_count": null,
   "metadata": {},
   "outputs": [],
   "source": [
    "# Use these cells to update your function\n"
   ]
  },
  {
   "cell_type": "markdown",
   "metadata": {},
   "source": [
    "Here's what I did.\n",
    "<br>\n",
    "<br>\n",
    "\n",
    "<details>\n",
    "    <summary><span style=\"color:blue\">Click to see my solution</span></summary>\n",
    "    \n",
    "```python\n",
    "import numbers \n",
    "\n",
    "def my_average(my_list):\n",
    "    only_numbers = [x for x in my_list if isinstance(x, numbers.Number)]\n",
    "    total_sum = 0\n",
    "\n",
    "    for number in only_numbers:\n",
    "        total_sum += number\n",
    "    \n",
    "    average = total_sum/len(only_numbers)\n",
    "    \n",
    "    return average\n",
    "```\n",
    "\n",
    "**If you've opened this up, why not try interpreting the code yourself before reading my explanation below.**\n",
    "\n",
    "</details>\n",
    "\n",
    "You should notice that a couple of key things about my solution. What I've done here is reverted mostly back to the original code that I used. And, instead of conditionally counting and summing the numbers as we went, I managed this at the start of the function. \n",
    "1. I utilized the `Number` type by importing the `numbers` module to allow me to test for both `int` and `float` types (both can be averaged)\n",
    "2. I used list comprehension at the start to create a new list that only had the numbers I wanted\n",
    "3. I added a conditional statement within my list comprehension\n",
    "4. I had to change the name of the argument in my function because otherwise it wasn't able to differentiate between the name of the local variable (the argument) in the function and the module name. This is also a more accurate name for the argument because it is now expecting to manage collections that have different data types.\n",
    "\n",
    "### Documentation: enhancing usability\n",
    "When we build functions it is best practice to include the documentation for your function. This helps anyone who needs to use the function, or examine your code, understand what you did. \n",
    "\n",
    "There are two ways that we can document.\n",
    "1. Docstrings\n",
    "2. Code comments\n",
    "\n",
    "#### Docstrings\n",
    "Docstrings are included in the line right after defining your function. They are wrapped in three single or double quotation marks. \n",
    "\n",
    "```python\n",
    "def my_function():\n",
    "    '''Your docstring goes here.'''\n",
    "    pass\n",
    "```\n",
    "\n",
    "The first line of your docstring should provide a brief explanation of what your function does. This should be written in active tense, e.g. \"Calculate the average of numbers in a list\". If this is sufficient for others to use your function easily, you can finish your docstring here. However, if you have a number of arguments with your function, or a complicated output, it is recommended to also include details of the inputs and outputs. The exact details of how you format these elements is somewhat up to you, but you should keep it consistent.\n",
    "\n",
    "Typical components for explaining your inputs and outputs are:\n",
    "- Type\n",
    "- How the variable is used\n",
    "\n",
    "This [article](https://www.datacamp.com/community/tutorials/docstrings-python#google-style) provides excellent examples of different docstring formats. I would recommend reviewing \"Google Style\" and \"Numpy Style\" sections to see some different versions and understand the pros and cons. \n",
    "\n",
    "For more information about Python best practices for docstrings, you can check out the [PEP Guidelines](https://www.python.org/dev/peps/pep-0257/).\n",
    "\n",
    "**16\\.** Redefine your function including a docstring. If you write out your function name and press Shift-Tab between the brackets, can you see your documentation?"
   ]
  },
  {
   "cell_type": "code",
   "execution_count": null,
   "metadata": {},
   "outputs": [],
   "source": [
    "# Redefine your function with a docstring\n"
   ]
  },
  {
   "cell_type": "code",
   "execution_count": null,
   "metadata": {},
   "outputs": [],
   "source": [
    "# Can you see your documentation in the function?\n",
    "my_average()"
   ]
  },
  {
   "cell_type": "markdown",
   "metadata": {},
   "source": [
    "Documentation is another option to help people manage errors in using your functions. Python best practices do not require you to always manage errors resulting from incorrect types in your code. If it's correctly documented, then the user should understand why the error occurred, even without looking at the baseline code. However, there can be justifiable use cases why you might want to manage the error.\n",
    "\n",
    "For example, for the `my_average` function, we might create a docstring that looks like this.\n",
    "```python\n",
    "def my_average(numbers):\n",
    "    '''\n",
    "    Calculate the average of the elements, ignoring NoneType values.\n",
    "    \n",
    "    Args:\n",
    "        numbers (list-like): List of numeric values to average\n",
    "    Returns:\n",
    "        average: Average value\n",
    "    '''\n",
    "    total_sum = 0\n",
    "    total_values = 0\n",
    "\n",
    "    for number in numbers:\n",
    "        if number:\n",
    "            total_sum += number\n",
    "            total_values += 1\n",
    "    \n",
    "    average = total_sum/total_values\n",
    "    \n",
    "    return average\n",
    "```\n",
    "\n",
    "This docstring clearly states that what we are expecting in `numbers` is an object that is list-like (could be a tuple) that is comprised of numeric values, and perhaps NoneType objects. If the user adds something else, it will produce an error, but this is essentially their responsibility. \n",
    "\n",
    "However, perhaps we know that the lists that the function will be receiving will contain elements that are not numerical and we still want it to calculate the average without raising an error. In this case, we would likely use a version of the function that can exclude a variety of types and our documentation would reflect this. \n",
    "\n",
    "#### Code Comments\n",
    "As previously discussed, code comments are designated with the `#` symbol. These can be included above a line of code, or, at the end, for an \"in line\" comment. This [article](https://realpython.com/documenting-python-code/#why-documenting-your-code-is-so-important) provides an excellent discussion on the differences in the uses of docstrings and code comments, with some details on how and why to comment. (I'd recommend reading the first two sections especially)\n",
    "\n",
    "There is a school of thought that if your code is well written enough, you should need minimal code comments. However, if you are new to writing code, code comments can help you navigate the sections of your code when you return to it, and also remind you want the code does. \n",
    "\n",
    "If the functionality of a piece of code, or the reason why it was done is something that would be very unclear to an unfamiliar reader, this is a time when code commments should definitely be used.\n",
    "\n",
    "## Argument Types\n",
    "Way back at the start of this notebook, we talked about different types of arguments within Python. We mentioned these:\n",
    "- **Required:** Must be included for the function to operate. \n",
    "- **Variable:** Required but can be a variable number of arguments.\n",
    "- **Optional:** The function will run without providing this information, based on a default functionality, but if we'd like more control on the operation, we can include the optional argument.\n",
    "- **Not used:** A function may be constructed so that we don't need an argument at all. \n",
    "\n",
    "### Required\n",
    "Required arguments is what we have used in our `my_average` function. Without this information, our code cannot run. \n",
    "\n",
    "### Variable\n",
    "As discussed, variable arguments are required, but perhaps we don't know the number of variables that will be used. We can designate these in python using `*args`. (The word \"args\" can be anything you wish, but this is the most common form)\n",
    "\n",
    "For example:\n",
    "```python\n",
    "def my_average(*numbers):\n",
    "    total_sum = 0\n",
    "    total_values = 0\n",
    "\n",
    "    for number in numbers:\n",
    "        if number:\n",
    "            total_sum += number\n",
    "            total_values += 1\n",
    "    \n",
    "    average = total_sum/total_values\n",
    "    \n",
    "    return average\n",
    "```\n",
    "\n",
    "This looks incredibly similar to what we had before, but it changes what is entered in the arguments, we would be expecting a series of elements entered directly into the brackets, rather than the list we were using previously.\n",
    "\n",
    "```python\n",
    "my_average(1, 3, 4, None, 8)\n",
    "```\n",
    "\n",
    "Once inside the function all of the variables we entered act as if they were inside a tuple.\n",
    "\n",
    "### Optional\n",
    "Optional arguments are those that are assigned a value within the function. For example:\n",
    "\n",
    "```python\n",
    "def my_average(my_collection, manage_type=True):\n",
    "    if manage_type:\n",
    "        my_collection = [x for x in my_collection if isinstance(x, numbers.Number)]\n",
    "    \n",
    "    total_sum = 0\n",
    "    total_values = 0\n",
    "\n",
    "    for item in my_collection:\n",
    "        if item:\n",
    "            total_sum += item\n",
    "            total_values += 1\n",
    "    \n",
    "    average = total_sum/total_values\n",
    "    \n",
    "    return average\n",
    "```\n",
    "\n",
    "The function has a second argument that allows us to decide what we will do with elements in our collection that are not numbers. If `manage_type` is True, then we will remove them before we start calculating our average. However, if it is False, then only `None` elements would be removed in our code and any other types would cause an error. \n",
    "\n",
    "By assigning the argument a value, we can execute the function without including any information about this argument if we want to use the default functionality. \n",
    "\n",
    "**17\\.** Run the cells below to observe the use of an optional argument. What happened with the second cell?"
   ]
  },
  {
   "cell_type": "code",
   "execution_count": null,
   "metadata": {},
   "outputs": [],
   "source": [
    "# Run this cell\n",
    "def my_average(my_collection, manage_type=True):\n",
    "    if manage_type:\n",
    "        my_collection = [x for x in my_collection if isinstance(x, numbers.Number)]\n",
    "\n",
    "    total_sum = 0\n",
    "    total_values = 0\n",
    "\n",
    "    for item in my_collection:\n",
    "        if item:\n",
    "            total_sum += item\n",
    "            total_values += 1\n",
    "\n",
    "    average = total_sum/total_values\n",
    "\n",
    "    return average\n",
    "\n",
    "my_list = list(range(1, 11))\n",
    "my_list.append('cat')\n",
    "my_average(my_list)"
   ]
  },
  {
   "cell_type": "code",
   "execution_count": null,
   "metadata": {},
   "outputs": [],
   "source": [
    "# Run this cell\n",
    "my_average(my_list, False)"
   ]
  },
  {
   "cell_type": "markdown",
   "metadata": {},
   "source": [
    "_Double click to edit and record your answer._"
   ]
  },
  {
   "cell_type": "markdown",
   "metadata": {},
   "source": [
    "### Positional v. Keyword\n",
    "\n",
    "The example above also highlights another element of Python arguments. We can assign values for Python using position and keyword. \n",
    "\n",
    "#### Postional\n",
    "Each argument in Python has a position. In the example above, the variable with the name `my_collection` is in the first position, and `manage_type` is in the second position. \n",
    "\n",
    "If I just enter my variables without a keyword, then Python will assign my arguments to the variable names in the function based on the position. The argument that I enter first will be assigned to `my_collection` and the argument that I enter second will be assigned to `manage_type`. This is what we did above. \n",
    "\n",
    "#### Keyword\n",
    "However, especially when there are a lot of arguments, it can be easy to get the order wrong and therefore mess up the operation of your function. This is where keywords can come in handy. \n",
    "\n",
    "**18\\.** Run the cell below to observe the use of keyword argument assignment. What do you notice?"
   ]
  },
  {
   "cell_type": "code",
   "execution_count": null,
   "metadata": {},
   "outputs": [],
   "source": [
    "# Run this cell\n",
    "my_average(manage_type=True, my_collection=my_list)"
   ]
  },
  {
   "cell_type": "markdown",
   "metadata": {},
   "source": [
    "_Double click to edit and record your answer._"
   ]
  },
  {
   "cell_type": "markdown",
   "metadata": {},
   "source": [
    "When using keywords, we can assign the arguments in any order because the are explicitly assigned to the variable name. However, Python requires that if you assign some arguments via position, and some via keyword, all positional arguments must be entered _before_ the keyword arguments (otherwise Python will be confused as to how to assign the variables). Even if you try to do otherwise, it will produce an error.\n",
    "\n",
    "**Note:** When assigning keyword arguments it is best practice in Python to use no spaces between the argument name, the equals sign and the value. This makes it easier to distinguish between the assignment of a variable and a keyword."
   ]
  },
  {
   "cell_type": "code",
   "execution_count": null,
   "metadata": {},
   "outputs": [],
   "source": [
    "# Use this cell to test out assigning arguments via position and keyword\n"
   ]
  },
  {
   "cell_type": "markdown",
   "metadata": {},
   "source": [
    "Now that we understand keyword arguments, we can now also talk about functions that have a variable number of keyword arguments. \n",
    "\n",
    "To assign a variable number of keyword arguments we would use `**kwargs`. Once again, it is the `**` that is essential to use - it is possible to use a different word other than \"kwargs\". \n",
    "\n",
    "Variable numbers of keyword arguments act like a dictionary within the function. "
   ]
  },
  {
   "cell_type": "code",
   "execution_count": null,
   "metadata": {},
   "outputs": [],
   "source": [
    "# Run this cell to observe a variable amount of keyword arguments\n",
    "def ages(**kwargs):\n",
    "    for key, value in kwargs.items():\n",
    "        print('{} is {} years of age.'.format(key, value))\n",
    "\n",
    "ages(John=8, Maria=15, Sophia=2, Albert=27)"
   ]
  },
  {
   "cell_type": "markdown",
   "metadata": {},
   "source": [
    "### Argument Order\n",
    "\n",
    "Now that we've seen the different types of arguments that can be included in a Python function, you might be wondering about the best order when defining your own function. [PEP](https://www.python.org/dev/peps/pep-0448/#variations) confirms that the expected order is:\n",
    "\n",
    "```python\n",
    "def function(positional, keyword, *args, **kwargs):\n",
    "    pass\n",
    "```"
   ]
  },
  {
   "cell_type": "markdown",
   "metadata": {},
   "source": [
    "## Extra Resources\n",
    "Once again, if you want to practice what has been explored in this notebook, you can check out the same [free course](https://www.udacity.com/course/introduction-to-python--ud1110) from Udacity. This time, the lesson to look at is **Lesson 4: Functions**."
   ]
  }
 ],
 "metadata": {
  "kernelspec": {
   "display_name": "Python (data_science)",
   "language": "python",
   "name": "data_science"
  },
  "language_info": {
   "codemirror_mode": {
    "name": "ipython",
    "version": 3
   },
   "file_extension": ".py",
   "mimetype": "text/x-python",
   "name": "python",
   "nbconvert_exporter": "python",
   "pygments_lexer": "ipython3",
   "version": "3.7.5"
  }
 },
 "nbformat": 4,
 "nbformat_minor": 2
}
